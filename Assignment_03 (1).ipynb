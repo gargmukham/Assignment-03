{
  "nbformat": 4,
  "nbformat_minor": 0,
  "metadata": {
    "colab": {
      "provenance": [],
      "collapsed_sections": [
        "fXusyIJbXx9j"
      ]
    },
    "kernelspec": {
      "name": "python3",
      "display_name": "Python 3"
    },
    "language_info": {
      "name": "python"
    }
  },
  "cells": [
    {
      "cell_type": "markdown",
      "source": [
        "#**Pandas**"
      ],
      "metadata": {
        "id": "fXusyIJbXx9j"
      }
    },
    {
      "cell_type": "markdown",
      "source": [
        "1. Create a Pandas Series from a Python list:"
      ],
      "metadata": {
        "id": "5oyoA8gfLaSf"
      }
    },
    {
      "cell_type": "code",
      "source": [
        "import pandas as pd\n",
        "\n",
        "my_list = [10, 20, 30, 40, 50]\n",
        "my_series = pd.Series(my_list)\n",
        "print(my_series)"
      ],
      "metadata": {
        "id": "qJKez3xyLf6v"
      },
      "execution_count": null,
      "outputs": []
    },
    {
      "cell_type": "markdown",
      "source": [
        "2. Create a Pandas DataFrame from a Python dictionary:"
      ],
      "metadata": {
        "id": "_4Le55IwLja4"
      }
    },
    {
      "cell_type": "code",
      "source": [
        "my_dict = {'Name': ['Alice', 'Bob', 'Charlie'],\n",
        "           'Age': [25, 30, 28],\n",
        "           'City': ['New York', 'London', 'Paris']}\n",
        "my_df = pd.DataFrame(my_dict)\n",
        "print(my_df)"
      ],
      "metadata": {
        "id": "wPxVOV9TLr83"
      },
      "execution_count": null,
      "outputs": []
    },
    {
      "cell_type": "markdown",
      "source": [
        "3. Create a DataFrame from a list of dictionaries:"
      ],
      "metadata": {
        "id": "WnLZ3X9qLw6g"
      }
    },
    {
      "cell_type": "code",
      "source": [
        "list_of_dicts = [{'Name': 'Alice', 'Age': 25},\n",
        "                {'Name': 'Bob', 'Age': 30, 'City': 'London'},\n",
        "                {'Name': 'Charlie', 'Age': 28}]\n",
        "my_df = pd.DataFrame(list_of_dicts)\n",
        "print(my_df)"
      ],
      "metadata": {
        "id": "EcAPHG4JL1U-"
      },
      "execution_count": null,
      "outputs": []
    },
    {
      "cell_type": "markdown",
      "source": [
        "4. Create a DataFrame from a NumPy array:"
      ],
      "metadata": {
        "id": "ligHIS6SL9fs"
      }
    },
    {
      "cell_type": "code",
      "source": [
        "import numpy as np\n",
        "\n",
        "my_array = np.array([[1, 2, 3], [4, 5, 6], [7, 8, 9]])\n",
        "my_df = pd.DataFrame(my_array, columns=['A', 'B', 'C'])\n",
        "print(my_df)"
      ],
      "metadata": {
        "id": "L2ks_Bc4L_dz"
      },
      "execution_count": null,
      "outputs": []
    },
    {
      "cell_type": "markdown",
      "source": [
        "5. Create a DataFrame from a CSV file:"
      ],
      "metadata": {
        "id": "soH69BYlMEjE"
      }
    },
    {
      "cell_type": "code",
      "source": [
        "# Assuming you have a file named 'data.csv'\n",
        "my_df = pd.read_csv('data.csv')\n",
        "print(my_df)"
      ],
      "metadata": {
        "id": "BxPcty_jMKda"
      },
      "execution_count": null,
      "outputs": []
    },
    {
      "cell_type": "markdown",
      "source": [
        "6. Create a DataFrame from an Excel file:"
      ],
      "metadata": {
        "id": "iXo7MYelMbs0"
      }
    },
    {
      "cell_type": "code",
      "source": [
        "# Assuming you have a file named 'data.xlsx'\n",
        "my_df = pd.read_excel('data.xlsx')\n",
        "print(my_df)"
      ],
      "metadata": {
        "id": "GFmw3JXOMgV4"
      },
      "execution_count": null,
      "outputs": []
    },
    {
      "cell_type": "markdown",
      "source": [
        "7. Create an empty DataFrame:"
      ],
      "metadata": {
        "id": "TasnvMDZMi0n"
      }
    },
    {
      "cell_type": "code",
      "source": [
        "empty_df = pd.DataFrame()\n",
        "print(empty_df)"
      ],
      "metadata": {
        "id": "95Mj-POLMnAt"
      },
      "execution_count": null,
      "outputs": []
    },
    {
      "cell_type": "markdown",
      "source": [
        "8. Create a DataFrame with specified data types:"
      ],
      "metadata": {
        "id": "Zg1r_2_6Mr01"
      }
    },
    {
      "cell_type": "code",
      "source": [
        "data = {'col1': [1, 2, 3], 'col2': ['a', 'b', 'c']}\n",
        "df = pd.DataFrame(data, dtype=str)  # All columns as strings\n",
        "print(df)"
      ],
      "metadata": {
        "id": "geqJsVqRMs35"
      },
      "execution_count": null,
      "outputs": []
    },
    {
      "cell_type": "markdown",
      "source": [
        "9. Create a DataFrame with an index:"
      ],
      "metadata": {
        "id": "dstXqR7AMweS"
      }
    },
    {
      "cell_type": "code",
      "source": [
        "data = {'Name': ['Alice', 'Bob', 'Charlie'], 'Age': [25, 30, 28]}\n",
        "index = ['Person 1', 'Person 2', 'Person 3']\n",
        "df = pd.DataFrame(data, index=index)\n",
        "print(df)"
      ],
      "metadata": {
        "id": "z0mmqDdKM10n"
      },
      "execution_count": null,
      "outputs": []
    },
    {
      "cell_type": "markdown",
      "source": [
        "10. Create a DataFrame from a list of tuples:"
      ],
      "metadata": {
        "id": "oShRTLO1M4mC"
      }
    },
    {
      "cell_type": "code",
      "source": [
        "data = [('Alice', 25), ('Bob', 30), ('Charlie', 28)]\n",
        "df = pd.DataFrame(data, columns=['Name', 'Age'])\n",
        "print(df)"
      ],
      "metadata": {
        "id": "ZkOBi65sM960"
      },
      "execution_count": null,
      "outputs": []
    },
    {
      "cell_type": "markdown",
      "source": [
        "11. Select a single column from a DataFrame:"
      ],
      "metadata": {
        "id": "eiCus_zMNhhX"
      }
    },
    {
      "cell_type": "code",
      "source": [
        "import pandas as pd\n",
        "\n",
        "data = {'Name': ['Alice', 'Bob', 'Charlie'], 'Age': [25, 30, 28], 'City': ['New York', 'London', 'Paris']}\n",
        "df = pd.DataFrame(data)\n",
        "\n",
        "# Method 1 (preferred):\n",
        "name_column = df['Name']\n",
        "print(name_column)\n",
        "\n",
        "# Method 2 (less preferred, can lead to issues):\n",
        "name_column = df.Name\n",
        "print(name_column)"
      ],
      "metadata": {
        "id": "VQZ_g8JaNibv"
      },
      "execution_count": null,
      "outputs": []
    },
    {
      "cell_type": "markdown",
      "source": [
        "12. Select multiple columns from a DataFrame:"
      ],
      "metadata": {
        "id": "8d9BVQpHNmaK"
      }
    },
    {
      "cell_type": "code",
      "source": [
        "subset = df[['Name', 'Age']]\n",
        "print(subset)"
      ],
      "metadata": {
        "id": "JG2sb8qsNrkx"
      },
      "execution_count": null,
      "outputs": []
    },
    {
      "cell_type": "markdown",
      "source": [
        "13. Select a single row by label (index):"
      ],
      "metadata": {
        "id": "q8s04MCDNt2A"
      }
    },
    {
      "cell_type": "code",
      "source": [
        "# Assuming your index is the default 0, 1, 2...\n",
        "row_0 = df.loc[0]  # Or df.iloc[0] for integer position\n",
        "print(row_0)\n",
        "\n",
        "# If you have a custom index (like 'Person 1', 'Person 2' as in the previous example):\n",
        "# df = pd.DataFrame(data, index=['Person 1', 'Person 2', 'Person 3'])\n",
        "# row_person1 = df.loc['Person 1']\n",
        "# print(row_person1)"
      ],
      "metadata": {
        "id": "d0isuhiLNwwT"
      },
      "execution_count": null,
      "outputs": []
    },
    {
      "cell_type": "markdown",
      "source": [
        "14. Select multiple rows by label:"
      ],
      "metadata": {
        "id": "G3ZGmZ5PN13U"
      }
    },
    {
      "cell_type": "code",
      "source": [
        "rows_0_and_1 = df.loc[[0, 1]] # Or df.iloc[[0, 1]]\n",
        "print(rows_0_and_1)"
      ],
      "metadata": {
        "id": "Hy3iMZj7N5-a"
      },
      "execution_count": null,
      "outputs": []
    },
    {
      "cell_type": "markdown",
      "source": [
        "15. Select rows and columns using .loc (label-based):"
      ],
      "metadata": {
        "id": "EU4VbbT7N87A"
      }
    },
    {
      "cell_type": "code",
      "source": [
        "subset = df.loc[[0, 1], ['Name', 'Age']]\n",
        "print(subset)"
      ],
      "metadata": {
        "id": "JbsOR8GUOAwG"
      },
      "execution_count": null,
      "outputs": []
    },
    {
      "cell_type": "markdown",
      "source": [
        "15. Select rows and columns using .loc (label-based):"
      ],
      "metadata": {
        "id": "tEZmrz3tODMu"
      }
    },
    {
      "cell_type": "code",
      "source": [
        "subset = df.loc[[0, 1], ['Name', 'Age']]\n",
        "print(subset)"
      ],
      "metadata": {
        "id": "mGrxiZmgOHNy"
      },
      "execution_count": null,
      "outputs": []
    },
    {
      "cell_type": "markdown",
      "source": [
        "16. Select rows and columns using .iloc (integer-based):"
      ],
      "metadata": {
        "id": "6T_AnaN7OKCB"
      }
    },
    {
      "cell_type": "code",
      "source": [
        "subset = df.iloc[[0, 1], [0, 1]]  # Same result as above, but using integer positions\n",
        "print(subset)"
      ],
      "metadata": {
        "id": "2JnMKfPHONNq"
      },
      "execution_count": null,
      "outputs": []
    },
    {
      "cell_type": "markdown",
      "source": [
        "17. Select a single cell using .loc:"
      ],
      "metadata": {
        "id": "K-LOWKywOPhr"
      }
    },
    {
      "cell_type": "code",
      "source": [
        "age_of_alice = df.loc[0, 'Age']\n",
        "print(age_of_alice)"
      ],
      "metadata": {
        "id": "6ppzUXhaOVJN"
      },
      "execution_count": null,
      "outputs": []
    },
    {
      "cell_type": "markdown",
      "source": [
        "18. Select a single cell using .iloc:"
      ],
      "metadata": {
        "id": "LIXY00r1OXGG"
      }
    },
    {
      "cell_type": "code",
      "source": [
        "age_of_alice = df.iloc[0, 1]\n",
        "print(age_of_alice)"
      ],
      "metadata": {
        "id": "VEo-G9NcOZxP"
      },
      "execution_count": null,
      "outputs": []
    },
    {
      "cell_type": "markdown",
      "source": [
        "19. Select rows based on a condition:"
      ],
      "metadata": {
        "id": "Tiq0Rfh8OcU2"
      }
    },
    {
      "cell_type": "code",
      "source": [
        "adults = df[df['Age'] >= 25]\n",
        "print(adults)"
      ],
      "metadata": {
        "id": "Y6ojM6gHOfHc"
      },
      "execution_count": null,
      "outputs": []
    },
    {
      "cell_type": "markdown",
      "source": [
        "20. Select rows based on multiple conditions:"
      ],
      "metadata": {
        "id": "YCbONLKEOhnc"
      }
    },
    {
      "cell_type": "code",
      "source": [
        "adults_in_new_york = df[(df['Age'] >= 25) & (df['City'] == 'New York')] # Use & for \"and\", | for \"or\"\n",
        "print(adults_in_new_york)"
      ],
      "metadata": {
        "id": "DhckktNXOmQY"
      },
      "execution_count": null,
      "outputs": []
    },
    {
      "cell_type": "markdown",
      "source": [
        "21. Select rows where a column value is in a list:"
      ],
      "metadata": {
        "id": "uA5e1abiOwpO"
      }
    },
    {
      "cell_type": "code",
      "source": [
        "cities = ['New York', 'Paris']\n",
        "selected_rows = df[df['City'].isin(cities)]\n",
        "print(selected_rows)"
      ],
      "metadata": {
        "id": "41wG6NNXOzcz"
      },
      "execution_count": null,
      "outputs": []
    },
    {
      "cell_type": "markdown",
      "source": [
        "22. Select all rows except some specific ones:"
      ],
      "metadata": {
        "id": "fUt4ytlBO1m-"
      }
    },
    {
      "cell_type": "code",
      "source": [
        "rows_to_exclude = [0, 2]\n",
        "selected_rows = df.drop(rows_to_exclude)\n",
        "print(selected_rows)"
      ],
      "metadata": {
        "id": "HkBfAVUsO4t9"
      },
      "execution_count": null,
      "outputs": []
    },
    {
      "cell_type": "markdown",
      "source": [
        "23. Select a range of rows:"
      ],
      "metadata": {
        "id": "l9knush4O7H4"
      }
    },
    {
      "cell_type": "code",
      "source": [
        "row_range = df[1:3]  # Rows from index 1 up to (but not including) 3\n",
        "print(row_range)"
      ],
      "metadata": {
        "id": "X-0QCht4O_KV"
      },
      "execution_count": null,
      "outputs": []
    },
    {
      "cell_type": "markdown",
      "source": [
        "24. Select all rows after a specific row:"
      ],
      "metadata": {
        "id": "fEwzDCVYPB3T"
      }
    },
    {
      "cell_type": "code",
      "source": [
        "rows_after_1 = df[1:]\n",
        "print(rows_after_1)"
      ],
      "metadata": {
        "id": "Rn7mTojkPEx8"
      },
      "execution_count": null,
      "outputs": []
    },
    {
      "cell_type": "markdown",
      "source": [
        "25. Select all rows before a specific row:"
      ],
      "metadata": {
        "id": "VutwBPN3PM_h"
      }
    },
    {
      "cell_type": "code",
      "source": [
        "rows_before_2 = df[:2]\n",
        "print(rows_before_2)"
      ],
      "metadata": {
        "id": "YwRQasn7PNvh"
      },
      "execution_count": null,
      "outputs": []
    },
    {
      "cell_type": "markdown",
      "source": [
        "26. Add a new column to a DataFrame:"
      ],
      "metadata": {
        "id": "nyqkwWe8PbDg"
      }
    },
    {
      "cell_type": "code",
      "source": [
        "df['Salary'] = [50000, 60000, 55000]  # Assigning a list of values\n",
        "print(df)\n",
        "\n",
        "# Or, assigning a single value to all rows:\n",
        "df['Department'] = 'Sales'\n",
        "print(df)"
      ],
      "metadata": {
        "id": "7vUPzFTfPdSh"
      },
      "execution_count": null,
      "outputs": []
    },
    {
      "cell_type": "markdown",
      "source": [
        "27. Remove a column from a DataFrame:"
      ],
      "metadata": {
        "id": "_rOZdsrhPguU"
      }
    },
    {
      "cell_type": "code",
      "source": [
        "df = df.drop('Department', axis=1)  # axis=1 indicates columns\n",
        "print(df)\n",
        "\n",
        "# Or, using the del keyword:\n",
        "del df['Salary']\n",
        "print(df)"
      ],
      "metadata": {
        "id": "Q2JLSCXlPj2v"
      },
      "execution_count": null,
      "outputs": []
    },
    {
      "cell_type": "markdown",
      "source": [
        "28. Rename columns in a DataFrame:"
      ],
      "metadata": {
        "id": "a8HhR7JYPndJ"
      }
    },
    {
      "cell_type": "code",
      "source": [
        "df = df.rename(columns={'Name': 'Employee Name', 'Age': 'Employee Age'})\n",
        "print(df)"
      ],
      "metadata": {
        "id": "1NlgmAIKPq5_"
      },
      "execution_count": null,
      "outputs": []
    },
    {
      "cell_type": "markdown",
      "source": [
        "29. Change the index of a DataFrame:"
      ],
      "metadata": {
        "id": "LWS9fMMxPtIC"
      }
    },
    {
      "cell_type": "code",
      "source": [
        "df = df.set_index('Employee Name')\n",
        "print(df)\n",
        "\n",
        "df = df.reset_index() # To revert back to default index\n",
        "print(df)"
      ],
      "metadata": {
        "id": "8nY6EXyjPwvS"
      },
      "execution_count": null,
      "outputs": []
    },
    {
      "cell_type": "markdown",
      "source": [
        "30. Sort a DataFrame by a column:"
      ],
      "metadata": {
        "id": "rev-zOKjPylb"
      }
    },
    {
      "cell_type": "code",
      "source": [
        "df = df.sort_values('Employee Age')  # Ascending order by default\n",
        "print(df)\n",
        "\n",
        "df = df.sort_values('Employee Age', ascending=False)  # Descending order\n",
        "print(df)"
      ],
      "metadata": {
        "id": "omrZSRYyP2yA"
      },
      "execution_count": null,
      "outputs": []
    },
    {
      "cell_type": "markdown",
      "source": [
        "31. Sort a DataFrame by multiple columns:"
      ],
      "metadata": {
        "id": "AT8Xr8ToP4Mp"
      }
    },
    {
      "cell_type": "code",
      "source": [
        "df = df.sort_values(['City', 'Employee Age'], ascending=[True, False]) # Sort by city (ascending) then age (descending)\n",
        "print(df)"
      ],
      "metadata": {
        "id": "Ap5kD7AAP8F_"
      },
      "execution_count": null,
      "outputs": []
    },
    {
      "cell_type": "markdown",
      "source": [
        "32. Apply a function to a column:"
      ],
      "metadata": {
        "id": "0i27NFX0P_Dx"
      }
    },
    {
      "cell_type": "code",
      "source": [
        "def age_category(age):\n",
        "    if age < 25:\n",
        "        return 'Young'\n",
        "    else:\n",
        "        return 'Adult'\n",
        "\n",
        "df['Age Category'] = df['Employee Age'].apply(age_category)\n",
        "print(df)"
      ],
      "metadata": {
        "id": "Ws2P1tyfQB6M"
      },
      "execution_count": null,
      "outputs": []
    },
    {
      "cell_type": "markdown",
      "source": [
        "33. Apply a function to multiple columns (or the entire DataFrame):"
      ],
      "metadata": {
        "id": "i7wdD_7DQEtD"
      }
    },
    {
      "cell_type": "code",
      "source": [
        "def describe_person(row):\n",
        "    return f\"{row['Employee Name']} is {row['Employee Age']} years old and lives in {row['City']}.\"\n",
        "\n",
        "df['Description'] = df.apply(describe_person, axis=1)  # axis=1 to apply to each row\n",
        "print(df)"
      ],
      "metadata": {
        "id": "haC1whJ1QI_x"
      },
      "execution_count": null,
      "outputs": []
    },
    {
      "cell_type": "markdown",
      "source": [
        "34. Group data and calculate summary statistics:"
      ],
      "metadata": {
        "id": "7z1Q5UIKQMCu"
      }
    },
    {
      "cell_type": "code",
      "source": [
        "grouped_by_city = df.groupby('City')\n",
        "print(grouped_by_city.mean())  # Calculate mean age for each city\n",
        "print(grouped_by_city.count()) # Count number of employees in each city\n",
        "print(grouped_by_city.sum())\n",
        "print(grouped_by_city.max())\n",
        "print(grouped_by_city.min())\n",
        "print(grouped_by_city.median())\n",
        "print(grouped_by_city.std())\n",
        "print(grouped_by_city.var())\n",
        "print(grouped_by_city.describe())"
      ],
      "metadata": {
        "id": "Z9SUr9aJQSPb"
      },
      "execution_count": null,
      "outputs": []
    },
    {
      "cell_type": "markdown",
      "source": [
        "35. Aggregate data using different functions:"
      ],
      "metadata": {
        "id": "hewje19bQVG2"
      }
    },
    {
      "cell_type": "code",
      "source": [
        "aggregated_data = df.groupby('City').agg({'Employee Age': ['mean', 'max'], 'Employee Name': 'count'})\n",
        "print(aggregated_data)"
      ],
      "metadata": {
        "id": "TUTOUy7gQZVj"
      },
      "execution_count": null,
      "outputs": []
    },
    {
      "cell_type": "markdown",
      "source": [
        "36. Merge two DataFrames:"
      ],
      "metadata": {
        "id": "KCGhvz5VQbgn"
      }
    },
    {
      "cell_type": "code",
      "source": [
        "df1 = pd.DataFrame({'ID': [1, 2, 3], 'Name': ['A', 'B', 'C']})\n",
        "df2 = pd.DataFrame({'ID': [2, 3, 4], 'Salary': [50000, 60000, 70000]})\n",
        "\n",
        "merged_df = pd.merge(df1, df2, on='ID', how='inner')  # 'inner', 'outer', 'left', 'right'\n",
        "print(merged_df)"
      ],
      "metadata": {
        "id": "URPNSwg_Qe3I"
      },
      "execution_count": null,
      "outputs": []
    },
    {
      "cell_type": "markdown",
      "source": [
        "37. Concatenate two DataFrames:"
      ],
      "metadata": {
        "id": "JE6wWPjSQhOM"
      }
    },
    {
      "cell_type": "code",
      "source": [
        "df_concat = pd.concat([df1, df2], ignore_index=True) # Adds rows. Use axis=1 to add columns.\n",
        "print(df_concat)"
      ],
      "metadata": {
        "id": "LH5zF0UAQkXr"
      },
      "execution_count": null,
      "outputs": []
    },
    {
      "cell_type": "markdown",
      "source": [
        "38. Handle missing values (NaN):"
      ],
      "metadata": {
        "id": "32QhSEXAQmkH"
      }
    },
    {
      "cell_type": "code",
      "source": [
        "df.fillna(0)  # Fill NaN with 0\n",
        "df.fillna(method='ffill')  # Forward fill\n",
        "df.fillna(method='bfill')  # Backward fill\n",
        "df.dropna()  # Remove rows with NaN\n",
        "df.interpolate() # Fill NaN using interpolation"
      ],
      "metadata": {
        "id": "2TUZeLsrQpC0"
      },
      "execution_count": null,
      "outputs": []
    },
    {
      "cell_type": "markdown",
      "source": [
        "39. Convert a column to a different data type:\n",
        "\n"
      ],
      "metadata": {
        "id": "0J95TNe5Qq4k"
      }
    },
    {
      "cell_type": "code",
      "source": [
        "df['Employee Age'] = df['Employee Age'].astype(int)\n",
        "print(df.dtypes) # Check data types"
      ],
      "metadata": {
        "id": "TEG1Z6NBQto0"
      },
      "execution_count": null,
      "outputs": []
    },
    {
      "cell_type": "markdown",
      "source": [
        "40. Create dummy variables (one-hot encoding):"
      ],
      "metadata": {
        "id": "NhzwEQyWQvV5"
      }
    },
    {
      "cell_type": "code",
      "source": [
        "df = pd.get_dummies(df, columns=['City'])\n",
        "print(df)"
      ],
      "metadata": {
        "id": "LMESfJqoQ02Q"
      },
      "execution_count": null,
      "outputs": []
    },
    {
      "cell_type": "markdown",
      "source": [
        "41. Working with Dates:"
      ],
      "metadata": {
        "id": "dz7V2eQPQ3gA"
      }
    },
    {
      "cell_type": "code",
      "source": [
        "# Convert a string column to datetime:\n",
        "df['Date'] = pd.to_datetime(df['Date_String'])  # Assuming 'Date_String' is your string column\n",
        "\n",
        "# Extract year, month, day, etc.:\n",
        "df['Year'] = df['Date'].dt.year\n",
        "df['Month'] = df['Date'].dt.month\n",
        "df['Day'] = df['Date'].dt.day\n",
        "\n",
        "# Calculate the difference between dates:\n",
        "df['Date_Difference'] = df['Date'] - df['Another_Date']\n",
        "\n",
        "# Format dates:\n",
        "df['Formatted_Date'] = df['Date'].dt.strftime('%Y-%m-%d')"
      ],
      "metadata": {
        "id": "_OtdWZMVRDQp"
      },
      "execution_count": null,
      "outputs": []
    },
    {
      "cell_type": "markdown",
      "source": [
        "42. String Manipulation:"
      ],
      "metadata": {
        "id": "Zw0NsCi8RFRA"
      }
    },
    {
      "cell_type": "code",
      "source": [
        "# Convert to string:\n",
        "df['Name'] = df['Name'].astype(str)\n",
        "\n",
        "# String methods (similar to Python's built-in string methods):\n",
        "df['Name_Upper'] = df['Name'].str.upper()\n",
        "df['Name_Lower'] = df['Name'].str.lower()\n",
        "df['Name_Len'] = df['Name'].str.len()\n",
        "df['Name_Contains'] = df['Name'].str.contains('substring')\n",
        "df['Name_Replaced'] = df['Name'].str.replace('old', 'new')\n",
        "df['Name_Split'] = df['Name'].str.split(' ')  # Splits the name by spaces\n",
        "df['First_Name'] = df['Name_Split'].str[0] # Access the first element of the split string list\n",
        "\n",
        "# Regular expressions:\n",
        "df['Name_Match'] = df['Name'].str.match(r'^A.*')  # Starts with 'A'"
      ],
      "metadata": {
        "id": "XDQ-ccHmRHnK"
      },
      "execution_count": null,
      "outputs": []
    },
    {
      "cell_type": "markdown",
      "source": [
        "43. Applying Functions Element-wise:"
      ],
      "metadata": {
        "id": "QvNUp7XQRJzx"
      }
    },
    {
      "cell_type": "code",
      "source": [
        "# Using applymap (for the entire DataFrame):\n",
        "df = df.applymap(lambda x: x.strip() if isinstance(x, str) else x)  # Remove leading/trailing spaces\n",
        "\n",
        "# Using apply (for a column or row):\n",
        "df['Cleaned_Name'] = df['Name'].apply(lambda x: x.strip())"
      ],
      "metadata": {
        "id": "dD2h93QvRPfh"
      },
      "execution_count": null,
      "outputs": []
    },
    {
      "cell_type": "markdown",
      "source": [
        "44. Pivoting and Unpivoting:"
      ],
      "metadata": {
        "id": "O3eMCY70RSrX"
      }
    },
    {
      "cell_type": "code",
      "source": [
        "# Pivoting (reshaping data):\n",
        "pivot_table = pd.pivot_table(df, values='Value', index='Index_Column', columns='Column_To_Pivot', aggfunc='sum')\n",
        "\n",
        "# Melting (unpivoting):\n",
        "melted_df = pd.melt(df, id_vars=['ID'], value_vars=['A', 'B'], var_name='Variable', value_name='Value')"
      ],
      "metadata": {
        "id": "5eCZ2GLQRWu1"
      },
      "execution_count": null,
      "outputs": []
    },
    {
      "cell_type": "markdown",
      "source": [
        "45. Working with Time Series Data:"
      ],
      "metadata": {
        "id": "7ETeE60VRZ3G"
      }
    },
    {
      "cell_type": "code",
      "source": [
        "# Resampling:\n",
        "df.set_index('Date', inplace=True) # Set 'Date' column as index\n",
        "resampled_df = df.resample('D').mean()  # Resample to daily frequency\n",
        "\n",
        "# Rolling window calculations:\n",
        "df['Rolling_Mean'] = df['Value'].rolling(window=7).mean()  # 7-day rolling mean"
      ],
      "metadata": {
        "id": "MEIxeYzbRdrZ"
      },
      "execution_count": null,
      "outputs": []
    },
    {
      "cell_type": "markdown",
      "source": [
        "46. Handling Duplicate Values:"
      ],
      "metadata": {
        "id": "N4bHu4LgRf8L"
      }
    },
    {
      "cell_type": "code",
      "source": [
        "df.duplicated()  # Returns True for duplicate rows\n",
        "df.drop_duplicates()  # Removes duplicate rows\n",
        "df.drop_duplicates(subset=['Name', 'Age'], keep='first') # Drops duplicates based on Name and Age, keeps the first occurrence"
      ],
      "metadata": {
        "id": "8AgZ-DppRj1k"
      },
      "execution_count": null,
      "outputs": []
    },
    {
      "cell_type": "markdown",
      "source": [
        "47. Conditional Logic (np.where):"
      ],
      "metadata": {
        "id": "iC6Us-yrRmnB"
      }
    },
    {
      "cell_type": "code",
      "source": [
        "import numpy as np\n",
        "df['Category'] = np.where(df['Value'] > 100, 'High', 'Low')"
      ],
      "metadata": {
        "id": "F0WngJiMRpis"
      },
      "execution_count": null,
      "outputs": []
    },
    {
      "cell_type": "markdown",
      "source": [
        "48. Creating Bins (pd.cut):"
      ],
      "metadata": {
        "id": "OaAJj2mjRrnS"
      }
    },
    {
      "cell_type": "code",
      "source": [
        "bins = [0, 25, 50, 100]\n",
        "labels = ['Low', 'Medium', 'High']\n",
        "df['Value_Bin'] = pd.cut(df['Value'], bins=bins, labels=labels, right=False) # right=False makes the intervals closed on the left"
      ],
      "metadata": {
        "id": "wtsjSz-oRuL7"
      },
      "execution_count": null,
      "outputs": []
    },
    {
      "cell_type": "markdown",
      "source": [
        "49. Calculating Percentiles:"
      ],
      "metadata": {
        "id": "D0haZYcORxeW"
      }
    },
    {
      "cell_type": "code",
      "source": [
        "df['Value'].quantile(0.5)  # Median (50th percentile)\n",
        "df['Value'].quantile([0.25, 0.75])  # 25th and 75th percentiles"
      ],
      "metadata": {
        "id": "9htvFkmTR2lk"
      },
      "execution_count": null,
      "outputs": []
    },
    {
      "cell_type": "markdown",
      "source": [
        "50.  Working with Categorical Data:"
      ],
      "metadata": {
        "id": "hlc3feSOR5AH"
      }
    },
    {
      "cell_type": "code",
      "source": [
        "df['Category'] = pd.Categorical(df['Category'], categories=['Low', 'Medium', 'High'], ordered=True) # Define custom order"
      ],
      "metadata": {
        "id": "sloGrOjdR9wA"
      },
      "execution_count": null,
      "outputs": []
    },
    {
      "cell_type": "markdown",
      "source": [
        "51. Reading and Writing CSV Files:"
      ],
      "metadata": {
        "id": "aDOgfIKgSNkB"
      }
    },
    {
      "cell_type": "code",
      "source": [
        "# Read from CSV:\n",
        "df = pd.read_csv('data.csv')\n",
        "\n",
        "# Write to CSV:\n",
        "df.to_csv('output.csv', index=False)  # index=False to avoid writing the index"
      ],
      "metadata": {
        "id": "xBw7JqzjSPMn"
      },
      "execution_count": null,
      "outputs": []
    },
    {
      "cell_type": "markdown",
      "source": [
        "52. Reading and Writing Excel Files:"
      ],
      "metadata": {
        "id": "7HJNkddISRgJ"
      }
    },
    {
      "cell_type": "code",
      "source": [
        "# Read from Excel:\n",
        "df = pd.read_excel('data.xlsx', sheet_name='Sheet1')  # Specify sheet name\n",
        "\n",
        "# Write to Excel:\n",
        "df.to_excel('output.xlsx', sheet_name='NewSheet', index=False)"
      ],
      "metadata": {
        "id": "v4U13W-iSUJT"
      },
      "execution_count": null,
      "outputs": []
    },
    {
      "cell_type": "markdown",
      "source": [
        "53. Reading and Writing JSON Files:"
      ],
      "metadata": {
        "id": "4P8EyO6TSXG7"
      }
    },
    {
      "cell_type": "code",
      "source": [
        "# Read from JSON:\n",
        "df = pd.read_json('data.json')\n",
        "\n",
        "# Write to JSON:\n",
        "df.to_json('output.json')"
      ],
      "metadata": {
        "id": "fUEIN86vSarI"
      },
      "execution_count": null,
      "outputs": []
    },
    {
      "cell_type": "markdown",
      "source": [
        "54. Reading and Writing HTML Tables:"
      ],
      "metadata": {
        "id": "7Pen4b_dSdFO"
      }
    },
    {
      "cell_type": "code",
      "source": [
        "# Read from HTML:\n",
        "tables = pd.read_html('table.html') # Returns a list of DataFrames if there are multiple tables\n",
        "df = tables[0]  # Select the first table\n",
        "\n",
        "# Write to HTML (less common):\n",
        "df.to_html('output.html')"
      ],
      "metadata": {
        "id": "zO0j6KZ5ShOP"
      },
      "execution_count": null,
      "outputs": []
    },
    {
      "cell_type": "markdown",
      "source": [
        "55. Reading data from SQL databases:"
      ],
      "metadata": {
        "id": "F4AcTZCnSjhs"
      }
    },
    {
      "cell_type": "code",
      "source": [
        "import sqlite3 # Or other database connector library\n",
        "\n",
        "# Connect to the database\n",
        "conn = sqlite3.connect('my_database.db')\n",
        "\n",
        "# Read from SQL query\n",
        "df = pd.read_sql_query(\"SELECT * FROM my_table\", conn)\n",
        "\n",
        "# Or read from a table directly\n",
        "df = pd.read_sql_table('my_table', conn)\n",
        "\n",
        "# Close the connection\n",
        "conn.close()"
      ],
      "metadata": {
        "id": "_lL5rvioSnxq"
      },
      "execution_count": null,
      "outputs": []
    },
    {
      "cell_type": "markdown",
      "source": [
        "56. Writing data to SQL databases:"
      ],
      "metadata": {
        "id": "SsRIYI-ASqxU"
      }
    },
    {
      "cell_type": "code",
      "source": [
        "import sqlite3\n",
        "\n",
        "conn = sqlite3.connect('my_database.db')\n",
        "\n",
        "# Write the DataFrame to a table\n",
        "df.to_sql('my_new_table', conn, if_exists='replace', index=False)  # if_exists: 'fail', 'replace', 'append'\n",
        "\n",
        "conn.close()"
      ],
      "metadata": {
        "id": "83suIl3dStvP"
      },
      "execution_count": null,
      "outputs": []
    },
    {
      "cell_type": "markdown",
      "source": [
        "57. Plotting with Pandas (basic):"
      ],
      "metadata": {
        "id": "FutTwt3NSwUd"
      }
    },
    {
      "cell_type": "code",
      "source": [
        "import matplotlib.pyplot as plt\n",
        "\n",
        "df.plot()  # Basic line plot\n",
        "plt.show()\n",
        "\n",
        "df.plot.scatter(x='Column1', y='Column2')  # Scatter plot\n",
        "plt.show()\n",
        "\n",
        "df.plot.bar(x='Category', y='Value')  # Bar chart\n",
        "plt.show()\n",
        "\n",
        "df['Value'].plot.hist()  # Histogram\n",
        "plt.show()\n",
        "\n",
        "# More advanced plotting with Matplotlib or Seaborn is often preferred for customization."
      ],
      "metadata": {
        "id": "69rvWERnSy3j"
      },
      "execution_count": null,
      "outputs": []
    },
    {
      "cell_type": "markdown",
      "source": [
        "58. Getting information about the DataFrame:"
      ],
      "metadata": {
        "id": "Xi8Q_joqS1Nl"
      }
    },
    {
      "cell_type": "code",
      "source": [
        "df.info()  # Information about data types, non-null values\n",
        "df.describe()  # Summary statistics for numerical columns\n",
        "df.head(5)  # First 5 rows\n",
        "df.tail(5)  # Last 5 rows\n",
        "df.shape  # Number of rows and columns\n",
        "df.dtypes  # Data types of each column\n",
        "df.columns  # Column names\n",
        "df.index  # Index labels\n",
        "df.memory_usage(deep=True) # Memory usage of the DataFrame"
      ],
      "metadata": {
        "id": "Gp_CenjXS32Y"
      },
      "execution_count": null,
      "outputs": []
    },
    {
      "cell_type": "markdown",
      "source": [
        "59.  Working with large datasets (chunking):\n"
      ],
      "metadata": {
        "id": "T5no_rEqS5nz"
      }
    },
    {
      "cell_type": "code",
      "source": [
        "chunksize = 10000  # Number of rows per chunk\n",
        "for chunk in pd.read_csv('large_file.csv', chunksize=chunksize):\n",
        "    # Process each chunk of the DataFrame\n",
        "    # ... your code here ..."
      ],
      "metadata": {
        "id": "YfJshQ33S-xa"
      },
      "execution_count": null,
      "outputs": []
    },
    {
      "cell_type": "markdown",
      "source": [
        "60.  Setting display options:"
      ],
      "metadata": {
        "id": "cf4uRXpyTA3V"
      }
    },
    {
      "cell_type": "code",
      "source": [
        "pd.set_option('display.max_rows', 100)  # Maximum rows to display\n",
        "pd.set_option('display.max_columns', 50)  # Maximum columns to display\n",
        "pd.set_option('display.width', 1000)      # Width of the display"
      ],
      "metadata": {
        "id": "flpI1mmvTDn3"
      },
      "execution_count": null,
      "outputs": []
    },
    {
      "cell_type": "markdown",
      "source": [
        "61.  Checking for missing data:"
      ],
      "metadata": {
        "id": "BJL6eQBFTFwo"
      }
    },
    {
      "cell_type": "code",
      "source": [
        "df.isnull().sum() # Number of missing values per column\n",
        "df.isna().sum() # Same as isnull()\n",
        "df.dropna() # Drops rows with any missing values\n",
        "df.fillna(0) # Fills missing values with 0"
      ],
      "metadata": {
        "id": "YWzPgHEwTIp0"
      },
      "execution_count": null,
      "outputs": []
    },
    {
      "cell_type": "markdown",
      "source": [
        "62.  Replacing values:"
      ],
      "metadata": {
        "id": "_fSCOW62TN1w"
      }
    },
    {
      "cell_type": "code",
      "source": [
        "df.replace({1: 100, 2: 200}) # Replace 1 with 100 and 2 with 200\n",
        "df['column_name'].replace({'old_value': 'new_value'})"
      ],
      "metadata": {
        "id": "VnvLrHUQTO6k"
      },
      "execution_count": null,
      "outputs": []
    },
    {
      "cell_type": "markdown",
      "source": [
        "63.  Creating a sample of the DataFrame:"
      ],
      "metadata": {
        "id": "FUQAYsR3TRA7"
      }
    },
    {
      "cell_type": "code",
      "source": [
        "df.sample(n=10) # Random sample of 10 rows\n",
        "df.sample(frac=0.1) # Random sample of 10% of the rows"
      ],
      "metadata": {
        "id": "40Dfr5rSTVpK"
      },
      "execution_count": null,
      "outputs": []
    },
    {
      "cell_type": "markdown",
      "source": [
        "64.  Getting unique values in a column:"
      ],
      "metadata": {
        "id": "o1Bv6DuVTYb0"
      }
    },
    {
      "cell_type": "code",
      "source": [
        "df['column_name'].unique()\n",
        "df['column_name'].nunique() # Number of unique values"
      ],
      "metadata": {
        "id": "O3Buc5eKTanw"
      },
      "execution_count": null,
      "outputs": []
    },
    {
      "cell_type": "markdown",
      "source": [
        "65.  Value counts:"
      ],
      "metadata": {
        "id": "-RJdxHV9Tchw"
      }
    },
    {
      "cell_type": "code",
      "source": [
        "df['column_name'].value_counts() # Count of each unique value"
      ],
      "metadata": {
        "id": "j47rNJBuTe96"
      },
      "execution_count": null,
      "outputs": []
    },
    {
      "cell_type": "markdown",
      "source": [
        "66.  Checking if two DataFrames are equal:"
      ],
      "metadata": {
        "id": "O3dkHm89ThFG"
      }
    },
    {
      "cell_type": "code",
      "source": [
        "df1.equals(df2)"
      ],
      "metadata": {
        "id": "tR-CyyjnTjhC"
      },
      "execution_count": null,
      "outputs": []
    },
    {
      "cell_type": "markdown",
      "source": [
        "67.  Applying a custom function row-wise with arguments:"
      ],
      "metadata": {
        "id": "HK0Bo0mjTmEq"
      }
    },
    {
      "cell_type": "code",
      "source": [
        "def my_function(row, arg1, arg2):\n",
        "    # ... your logic here ...\n",
        "    return result\n",
        "\n",
        "df.apply(lambda row: my_function(row, 10, 'abc'), axis=1)"
      ],
      "metadata": {
        "id": "m2sJmS97To_U"
      },
      "execution_count": null,
      "outputs": []
    },
    {
      "cell_type": "markdown",
      "source": [
        "68.  Applying a custom function column-wise with arguments:"
      ],
      "metadata": {
        "id": "aOTGkbZ5Tral"
      }
    },
    {
      "cell_type": "code",
      "source": [
        "def my_function(column, arg1, arg2):\n",
        "    # ... your logic here ...\n",
        "    return result\n",
        "\n",
        "df.apply(lambda col: my_function(col, 10, 'abc'), axis=0) # axis=0 to apply to columns"
      ],
      "metadata": {
        "id": "urqv9A7ATuG1"
      },
      "execution_count": null,
      "outputs": []
    },
    {
      "cell_type": "markdown",
      "source": [
        "69.  Calculating cumulative sum, product, etc.:"
      ],
      "metadata": {
        "id": "HKNOlMuQTwHi"
      }
    },
    {
      "cell_type": "code",
      "source": [
        "df['column_name'].cumsum()\n",
        "df['column_name'].cumprod()\n",
        "df['column_name'].cummin()\n",
        "df['column_name'].cummax()"
      ],
      "metadata": {
        "id": "LmANKe0bTy8j"
      },
      "execution_count": null,
      "outputs": []
    },
    {
      "cell_type": "markdown",
      "source": [
        "70.  Calculating running totals:"
      ],
      "metadata": {
        "id": "OXrSf0WXT1DC"
      }
    },
    {
      "cell_type": "code",
      "source": [
        "df['running_total'] = df['value'].cumsum()"
      ],
      "metadata": {
        "id": "uOHJ66S9T3dL"
      },
      "execution_count": null,
      "outputs": []
    },
    {
      "cell_type": "markdown",
      "source": [
        "71.  Shifting values:"
      ],
      "metadata": {
        "id": "vqx6RrUGT5xj"
      }
    },
    {
      "cell_type": "code",
      "source": [
        "df['shifted_value'] = df['value'].shift(1) # Shift down by 1\n",
        "df['shifted_value'] = df['value'].shift(-1) # Shift up by 1"
      ],
      "metadata": {
        "id": "Yx0gpu_wT9f_"
      },
      "execution_count": null,
      "outputs": []
    },
    {
      "cell_type": "markdown",
      "source": [
        "72.  Getting the N largest or smallest values:"
      ],
      "metadata": {
        "id": "xH4aTEhdT_eG"
      }
    },
    {
      "cell_type": "code",
      "source": [
        "df.nlargest(10, 'value')\n",
        "df.nsmallest(5, 'value')"
      ],
      "metadata": {
        "id": "KftiQZ2FUCbf"
      },
      "execution_count": null,
      "outputs": []
    },
    {
      "cell_type": "markdown",
      "source": [
        "73.  Getting the index of the maximum or minimum value in a column:"
      ],
      "metadata": {
        "id": "wxqtoxQAUE7q"
      }
    },
    {
      "cell_type": "code",
      "source": [
        "df['value'].idxmax()\n",
        "df['value'].idxmin()"
      ],
      "metadata": {
        "id": "nWEwR7GqUKi6"
      },
      "execution_count": null,
      "outputs": []
    },
    {
      "cell_type": "markdown",
      "source": [
        "74. How do you check if a DataFrame is empty?"
      ],
      "metadata": {
        "id": "Adufs5u6U5sU"
      }
    },
    {
      "cell_type": "code",
      "source": [
        "df.empty  # Returns True if DataFrame is empty, False otherwise"
      ],
      "metadata": {
        "id": "NtrkfamlU6fP"
      },
      "execution_count": null,
      "outputs": []
    },
    {
      "cell_type": "markdown",
      "source": [
        "75. How do you get the number of rows and columns in a DataFrame?"
      ],
      "metadata": {
        "id": "gemH2bA_U8cc"
      }
    },
    {
      "cell_type": "code",
      "source": [
        "df.shape  # Returns a tuple (number of rows, number of columns)"
      ],
      "metadata": {
        "id": "QZ1zcHkMVDJ6"
      },
      "execution_count": null,
      "outputs": []
    },
    {
      "cell_type": "markdown",
      "source": [
        "76. How do you get a list of column names?"
      ],
      "metadata": {
        "id": "xcEcidJsVFWk"
      }
    },
    {
      "cell_type": "code",
      "source": [
        "df.columns.tolist()  # Returns a list of column names"
      ],
      "metadata": {
        "id": "jlhBv99lVIYL"
      },
      "execution_count": null,
      "outputs": []
    },
    {
      "cell_type": "markdown",
      "source": [
        "77. How do you get a list of row indices?"
      ],
      "metadata": {
        "id": "5Cjr6uBgVKN4"
      }
    },
    {
      "cell_type": "code",
      "source": [
        "df.index.tolist()  # Returns a list of row indices"
      ],
      "metadata": {
        "id": "NJHCBhmzVZpk"
      },
      "execution_count": null,
      "outputs": []
    },
    {
      "cell_type": "markdown",
      "source": [
        "78. How do you check the data type of each column?"
      ],
      "metadata": {
        "id": "fmoJQXtpVcF-"
      }
    },
    {
      "cell_type": "code",
      "source": [
        "df.dtypes"
      ],
      "metadata": {
        "id": "OFbE5Vl2Ve5V"
      },
      "execution_count": null,
      "outputs": []
    },
    {
      "cell_type": "markdown",
      "source": [
        "79. How do you convert a column to datetime?"
      ],
      "metadata": {
        "id": "C0STQT7wVhMp"
      }
    },
    {
      "cell_type": "code",
      "source": [
        "df['date_column'] = pd.to_datetime(df['date_column'])"
      ],
      "metadata": {
        "id": "40aaKmedVkIZ"
      },
      "execution_count": null,
      "outputs": []
    },
    {
      "cell_type": "markdown",
      "source": [
        "80. How do you convert a column to numeric?"
      ],
      "metadata": {
        "id": "DmTsn-ZjVlyn"
      }
    },
    {
      "cell_type": "code",
      "source": [
        "df['numeric_column'] = pd.to_numeric(df['numeric_column'], errors='coerce') # errors='coerce' handles invalid parsing by setting it to NaN"
      ],
      "metadata": {
        "id": "yx6HrmJEVov_"
      },
      "execution_count": null,
      "outputs": []
    },
    {
      "cell_type": "markdown",
      "source": [
        "81. How do you create a DataFrame from a list of lists?"
      ],
      "metadata": {
        "id": "agyO7GtCVrFM"
      }
    },
    {
      "cell_type": "code",
      "source": [
        "data = [[1, 2, 3], [4, 5, 6], [7, 8, 9]]\n",
        "df = pd.DataFrame(data)  # Default column names (0, 1, 2, ...)\n",
        "\n",
        "df = pd.DataFrame(data, columns=['A', 'B', 'C']) # Specifying column names"
      ],
      "metadata": {
        "id": "Ng2xToh3VtjB"
      },
      "execution_count": null,
      "outputs": []
    },
    {
      "cell_type": "markdown",
      "source": [
        "82. How do you create a DataFrame from a list of dictionaries?"
      ],
      "metadata": {
        "id": "mpfTHd7gVwgQ"
      }
    },
    {
      "cell_type": "code",
      "source": [
        "data = [{'a': 1, 'b': 2}, {'a': 3, 'b': 4, 'c':5}]\n",
        "df = pd.DataFrame(data)"
      ],
      "metadata": {
        "id": "aG7ep2C6VzoA"
      },
      "execution_count": null,
      "outputs": []
    },
    {
      "cell_type": "markdown",
      "source": [
        "83. How do you add a new row to a DataFrame?"
      ],
      "metadata": {
        "id": "5EyaBSLuV6fv"
      }
    },
    {
      "cell_type": "code",
      "source": [
        "new_row = {'col1': 'value1', 'col2': 'value2'}\n",
        "df = pd.concat([df, pd.DataFrame([new_row])], ignore_index=True)"
      ],
      "metadata": {
        "id": "AiL3INVbV8kX"
      },
      "execution_count": null,
      "outputs": []
    },
    {
      "cell_type": "markdown",
      "source": [
        "84. How do you add a new column at a specific position?"
      ],
      "metadata": {
        "id": "Ildr5szWV_se"
      }
    },
    {
      "cell_type": "code",
      "source": [
        "df.insert(2, 'new_column', [10, 20, 30]) # Inserts 'new_column' at index 2"
      ],
      "metadata": {
        "id": "o54UQfOyWDAl"
      },
      "execution_count": null,
      "outputs": []
    },
    {
      "cell_type": "markdown",
      "source": [
        "85. How do you delete rows based on a condition?"
      ],
      "metadata": {
        "id": "xh7uYb8lWF_I"
      }
    },
    {
      "cell_type": "code",
      "source": [
        "df = df[df['column'] != 'value_to_delete']"
      ],
      "metadata": {
        "id": "gTiWIR9qWU1n"
      },
      "execution_count": null,
      "outputs": []
    },
    {
      "cell_type": "markdown",
      "source": [
        "86. How do you delete columns based on a condition?"
      ],
      "metadata": {
        "id": "PE0X8cQkWWuV"
      }
    },
    {
      "cell_type": "code",
      "source": [
        "cols_to_drop = [col for col in df.columns if 'unwanted' in col]\n",
        "df = df.drop(cols_to_drop, axis=1)"
      ],
      "metadata": {
        "id": "Q8A9D5NZWaxA"
      },
      "execution_count": null,
      "outputs": []
    },
    {
      "cell_type": "markdown",
      "source": [
        "87. How do you iterate through rows of a DataFrame?"
      ],
      "metadata": {
        "id": "plpW2LHvWc0R"
      }
    },
    {
      "cell_type": "code",
      "source": [
        "for index, row in df.iterrows():\n",
        "    # Access row data using row['column_name']\n",
        "    print(index, row['column_name'])"
      ],
      "metadata": {
        "id": "sAfD_jJfWgl-"
      },
      "execution_count": null,
      "outputs": []
    },
    {
      "cell_type": "markdown",
      "source": [
        "88. How do you iterate through columns of a DataFrame?"
      ],
      "metadata": {
        "id": "FI3KnwO7WiT9"
      }
    },
    {
      "cell_type": "code",
      "source": [
        "for column_name in df.columns:\n",
        "    column_series = df[column_name]\n",
        "    # Do something with the column_series\n",
        "    print(column_name)"
      ],
      "metadata": {
        "id": "CDwSx-yrWl-z"
      },
      "execution_count": null,
      "outputs": []
    },
    {
      "cell_type": "markdown",
      "source": [
        "89. How do you apply a function to each element of a DataFrame?"
      ],
      "metadata": {
        "id": "wAiKXpgcWn4L"
      }
    },
    {
      "cell_type": "code",
      "source": [
        "df = df.applymap(lambda x: x*2 if isinstance(x, (int, float)) else x) # Example: multiply numeric values by 2"
      ],
      "metadata": {
        "id": "TcVxSQFoWsmM"
      },
      "execution_count": null,
      "outputs": []
    },
    {
      "cell_type": "markdown",
      "source": [
        "90. How do you find the correlation between columns?"
      ],
      "metadata": {
        "id": "K-sRAJkBWunu"
      }
    },
    {
      "cell_type": "code",
      "source": [
        "df.corr()"
      ],
      "metadata": {
        "id": "zKcmdcPbWzHq"
      },
      "execution_count": null,
      "outputs": []
    },
    {
      "cell_type": "markdown",
      "source": [
        "91. How do you calculate the covariance between columns?"
      ],
      "metadata": {
        "id": "jedpwx4iW1Hk"
      }
    },
    {
      "cell_type": "code",
      "source": [
        "df.cov()"
      ],
      "metadata": {
        "id": "5DXJDfryW3tX"
      },
      "execution_count": null,
      "outputs": []
    },
    {
      "cell_type": "markdown",
      "source": [
        "92. How do you transpose a DataFrame?"
      ],
      "metadata": {
        "id": "yf2aNlGpW6Ha"
      }
    },
    {
      "cell_type": "code",
      "source": [
        "df.T"
      ],
      "metadata": {
        "id": "kUy1MzR2W9PB"
      },
      "execution_count": null,
      "outputs": []
    },
    {
      "cell_type": "markdown",
      "source": [
        "93. How do you melt a DataFrame (unpivot)?"
      ],
      "metadata": {
        "id": "jWhjJBQHW_Pk"
      }
    },
    {
      "cell_type": "code",
      "source": [
        "melted_df = pd.melt(df, id_vars=['id_column'], value_vars=['col1', 'col2'])"
      ],
      "metadata": {
        "id": "LhTo0x6VXBy_"
      },
      "execution_count": null,
      "outputs": []
    },
    {
      "cell_type": "markdown",
      "source": [
        "94. How do you pivot a DataFrame?"
      ],
      "metadata": {
        "id": "qL75SV9VXDxg"
      }
    },
    {
      "cell_type": "code",
      "source": [
        "pivot_df = df.pivot(index='index_col', columns='col_to_pivot', values='value_col')"
      ],
      "metadata": {
        "id": "IuHelpeNXGrF"
      },
      "execution_count": null,
      "outputs": []
    },
    {
      "cell_type": "markdown",
      "source": [
        "95. How do you create a crosstab?"
      ],
      "metadata": {
        "id": "Fjs0rvsRXJKI"
      }
    },
    {
      "cell_type": "code",
      "source": [
        "pd.crosstab(df['col1'], df['col2'])"
      ],
      "metadata": {
        "id": "2gzdV9jgXNyG"
      },
      "execution_count": null,
      "outputs": []
    },
    {
      "cell_type": "markdown",
      "source": [
        "96. How do you perform a left merge?"
      ],
      "metadata": {
        "id": "m8GLWnKYXPqo"
      }
    },
    {
      "cell_type": "code",
      "source": [
        "merged_df = pd.merge(df1, df2, on='common_column', how='left')"
      ],
      "metadata": {
        "id": "6n5RG_vqXScU"
      },
      "execution_count": null,
      "outputs": []
    },
    {
      "cell_type": "markdown",
      "source": [
        "97. How do you perform a right merge?"
      ],
      "metadata": {
        "id": "V1LWaPyRXUub"
      }
    },
    {
      "cell_type": "code",
      "source": [
        "merged_df = pd.merge(df1, df2, on='common_column', how='right')"
      ],
      "metadata": {
        "id": "D20Zxs9hXX0r"
      },
      "execution_count": null,
      "outputs": []
    },
    {
      "cell_type": "markdown",
      "source": [
        "98. How do you perform an inner merge?"
      ],
      "metadata": {
        "id": "fHtKzES9XaBf"
      }
    },
    {
      "cell_type": "code",
      "source": [
        "merged_df = pd.merge(df1, df2, on='common_column', how='inner')"
      ],
      "metadata": {
        "id": "j8EWMOQHXehA"
      },
      "execution_count": null,
      "outputs": []
    },
    {
      "cell_type": "markdown",
      "source": [
        "99. How do you perform an outer merge?"
      ],
      "metadata": {
        "id": "xMjNU8ILXgiR"
      }
    },
    {
      "cell_type": "code",
      "source": [
        "merged_df = pd.merge(df1, df2, on='common_column', how='outer')"
      ],
      "metadata": {
        "id": "eW7Lk782Xjgw"
      },
      "execution_count": null,
      "outputs": []
    },
    {
      "cell_type": "markdown",
      "source": [
        "100. How to concatenate DataFrames vertically?"
      ],
      "metadata": {
        "id": "QcSpWtKUXl02"
      }
    },
    {
      "cell_type": "code",
      "source": [
        "combined_df = pd.concat([df1, df2], axis=0, ignore_index=True) # axis=0 for vertical"
      ],
      "metadata": {
        "id": "HcKd3VVFXo2q"
      },
      "execution_count": null,
      "outputs": []
    },
    {
      "cell_type": "markdown",
      "source": [
        "#**Numpy**"
      ],
      "metadata": {
        "id": "6QVmAJ-PYBUT"
      }
    },
    {
      "cell_type": "markdown",
      "source": [
        "1.Import NumPy:"
      ],
      "metadata": {
        "id": "Ek5Ea6SgYPVE"
      }
    },
    {
      "cell_type": "code",
      "source": [
        "import numpy as np"
      ],
      "metadata": {
        "id": "qxGmvNuPY4Oh"
      },
      "execution_count": 2,
      "outputs": []
    },
    {
      "cell_type": "markdown",
      "source": [
        "2.Create a null vector of size 10:"
      ],
      "metadata": {
        "id": "GMUmV2j2Y64h"
      }
    },
    {
      "cell_type": "code",
      "source": [
        "Z = np.zeros(10)\n",
        "print(Z)"
      ],
      "metadata": {
        "id": "VOz5HGscZAir"
      },
      "execution_count": null,
      "outputs": []
    },
    {
      "cell_type": "markdown",
      "source": [
        "3.Create a vector with values from 10 to 49:"
      ],
      "metadata": {
        "id": "PIVSa182ZDO7"
      }
    },
    {
      "cell_type": "code",
      "source": [
        "Z = np.arange(10,50)\n",
        "print(Z)"
      ],
      "metadata": {
        "id": "9K0U_2jUZHB5"
      },
      "execution_count": null,
      "outputs": []
    },
    {
      "cell_type": "markdown",
      "source": [
        "4.Reverse a vector (first element becomes last):"
      ],
      "metadata": {
        "id": "Sy3-NLQ7ZMWL"
      }
    },
    {
      "cell_type": "code",
      "source": [
        "Z = np.arange(10,50)\n",
        "Z = Z[::-1]\n",
        "print(Z)"
      ],
      "metadata": {
        "id": "_Gx4byAHZPgM"
      },
      "execution_count": null,
      "outputs": []
    },
    {
      "cell_type": "markdown",
      "source": [
        "5.Create a 3x3 matrix with values from 0 to 8:"
      ],
      "metadata": {
        "id": "fq48y9SBZTxB"
      }
    },
    {
      "cell_type": "code",
      "source": [
        "Z = np.arange(9).reshape(3, 3)\n",
        "print(Z)"
      ],
      "metadata": {
        "id": "bllIb4RcZU-L"
      },
      "execution_count": null,
      "outputs": []
    },
    {
      "cell_type": "markdown",
      "source": [
        "6.Find the indices of the non-zero elements in [1,2,0,0,4,0]:"
      ],
      "metadata": {
        "id": "2T4LxwAmZXqH"
      }
    },
    {
      "cell_type": "code",
      "source": [
        "nz = np.nonzero([1,2,0,0,4,0])\n",
        "print(nz)"
      ],
      "metadata": {
        "id": "xmQOdkFYZb3I"
      },
      "execution_count": null,
      "outputs": []
    },
    {
      "cell_type": "markdown",
      "source": [
        "7.Create a 3x3 identity matrix:"
      ],
      "metadata": {
        "id": "nICzmKzJZePS"
      }
    },
    {
      "cell_type": "code",
      "source": [
        "Z = np.eye(3)\n",
        "print(Z)"
      ],
      "metadata": {
        "id": "ozSgOYLAZhwt"
      },
      "execution_count": null,
      "outputs": []
    },
    {
      "cell_type": "markdown",
      "source": [
        "8.Create a 3x3x3 array with random values:"
      ],
      "metadata": {
        "id": "nMbCo4fQZmy1"
      }
    },
    {
      "cell_type": "code",
      "source": [
        "Z = np.random.random((3,3,3))\n",
        "print(Z)"
      ],
      "metadata": {
        "id": "dgbSSFPbZoxx"
      },
      "execution_count": null,
      "outputs": []
    },
    {
      "cell_type": "markdown",
      "source": [
        "9.Create a 10x10 array with random values and find the minimum and maximum values:"
      ],
      "metadata": {
        "id": "pWsoF66AZrBc"
      }
    },
    {
      "cell_type": "code",
      "source": [
        "Z = np.random.random((10,10))\n",
        "min_val, max_val = Z.min(), Z.max()\n",
        "print(f\"Min: {min_val}, Max: {max_val}\")"
      ],
      "metadata": {
        "id": "lm9ZOZRBZyq9"
      },
      "execution_count": null,
      "outputs": []
    },
    {
      "cell_type": "markdown",
      "source": [
        "10.Create a random vector of size 30 and find the mean value:"
      ],
      "metadata": {
        "id": "VUXKMjpAZ7Rs"
      }
    },
    {
      "cell_type": "code",
      "source": [
        "Z = np.random.random(30)\n",
        "mean_val = Z.mean()\n",
        "print(mean_val)"
      ],
      "metadata": {
        "id": "89QIya4ZZ9MX"
      },
      "execution_count": null,
      "outputs": []
    },
    {
      "cell_type": "markdown",
      "source": [
        "11.Create a 10x10 array with 1s on the border and 0s inside:"
      ],
      "metadata": {
        "id": "6oGhAR4oZ_9Z"
      }
    },
    {
      "cell_type": "code",
      "source": [
        "Z = np.ones((10,10))\n",
        "Z[1:-1,1:-1] = 0\n",
        "print(Z)"
      ],
      "metadata": {
        "id": "HFWGCbTHaGHQ"
      },
      "execution_count": null,
      "outputs": []
    },
    {
      "cell_type": "markdown",
      "source": [
        "12.Pad a 5x5 array with zeros on all sides:"
      ],
      "metadata": {
        "id": "AyJ9l9cPaIsM"
      }
    },
    {
      "cell_type": "code",
      "source": [
        "Z = np.zeros((5,5))\n",
        "Z = np.pad(Z, pad_width=1, mode='constant', constant_values=0)\n",
        "print(Z)"
      ],
      "metadata": {
        "id": "d4tPNiMRaN7b"
      },
      "execution_count": null,
      "outputs": []
    },
    {
      "cell_type": "markdown",
      "source": [
        "13.Create a 5x5 matrix with values 1,2,3,4 just below the diagonal:"
      ],
      "metadata": {
        "id": "0gweQsucaR6X"
      }
    },
    {
      "cell_type": "code",
      "source": [
        "Z = np.diag(1+np.arange(4), k=-1)\n",
        "print(Z)"
      ],
      "metadata": {
        "id": "biF4U_q0aS5A"
      },
      "execution_count": null,
      "outputs": []
    },
    {
      "cell_type": "markdown",
      "source": [
        "14.Create a 8x8 matrix and fill it with a checkerboard pattern:"
      ],
      "metadata": {
        "id": "Vezt1oORaZa7"
      }
    },
    {
      "cell_type": "code",
      "source": [
        "Z = np.zeros((8,8),dtype=int)\n",
        "Z[1::2,::2] = 1\n",
        "Z[::2,1::2] = 1\n",
        "print(Z)"
      ],
      "metadata": {
        "id": "tNZcGDQxaekF"
      },
      "execution_count": null,
      "outputs": []
    },
    {
      "cell_type": "markdown",
      "source": [
        "15.Create a (6,7,8) shaped array and find the index (x,y,z) of the 100th element:"
      ],
      "metadata": {
        "id": "WnXoA3xDahm_"
      }
    },
    {
      "cell_type": "code",
      "source": [
        "Z = np.unravel_index(99,(6,7,8)) # Indexing starts from 0\n",
        "print(Z)"
      ],
      "metadata": {
        "id": "5qrvuwczalJf"
      },
      "execution_count": null,
      "outputs": []
    },
    {
      "cell_type": "markdown",
      "source": [
        "16.Z = np.unravel_index(99,(6,7,8)) # Indexing starts from 0\n",
        "print(Z)"
      ],
      "metadata": {
        "id": "E1vE6yIZaofg"
      }
    },
    {
      "cell_type": "code",
      "source": [
        "A = np.random.random((5,3))\n",
        "B = np.random.random((3,2))\n",
        "C = A @ B  # Or np.dot(A, B)\n",
        "print(C)"
      ],
      "metadata": {
        "id": "2vxmJCoNau7-"
      },
      "execution_count": null,
      "outputs": []
    },
    {
      "cell_type": "markdown",
      "source": [
        "17.Given a 1D array, negate all elements which are between 3 and 8, in place:"
      ],
      "metadata": {
        "id": "P6GP3f0zax1H"
      }
    },
    {
      "cell_type": "code",
      "source": [
        "Z = np.arange(11)\n",
        "Z[(3 < Z) & (Z < 8)] *= -1\n",
        "print(Z)"
      ],
      "metadata": {
        "id": "Kg_u6fAHa2__"
      },
      "execution_count": null,
      "outputs": []
    },
    {
      "cell_type": "markdown",
      "source": [
        "18.Find the nearest value in an array to a given value:"
      ],
      "metadata": {
        "id": "QfLTMOy8a5fS"
      }
    },
    {
      "cell_type": "code",
      "source": [
        "Z = np.random.uniform(0,1,10)\n",
        "z = 0.5\n",
        "m = Z.flat[np.abs(Z - z).argmin()]\n",
        "print(m)"
      ],
      "metadata": {
        "id": "cLWe6J47a9z8"
      },
      "execution_count": null,
      "outputs": []
    },
    {
      "cell_type": "markdown",
      "source": [
        "19.Create a structured array representing a position (x,y) and a color (r,g,b):"
      ],
      "metadata": {
        "id": "Ct7xIigNbBB0"
      }
    },
    {
      "cell_type": "code",
      "source": [
        "dtype = [('position', [('x', float), ('y', float)]),\n",
        "         ('color',    [('r', float), ('g', float), ('b', float)])]\n",
        "Z = np.zeros(10, dtype=dtype)\n",
        "print(Z)"
      ],
      "metadata": {
        "id": "WwGsohBXbHn6"
      },
      "execution_count": null,
      "outputs": []
    },
    {
      "cell_type": "markdown",
      "source": [
        "20.What is the output of the following expression?  (1, 2, 3) + (4, 5, 6)"
      ],
      "metadata": {
        "id": "UBWPVvpdbMxM"
      }
    },
    {
      "cell_type": "code",
      "source": [
        "print(np.array([1, 2, 3]) + np.array([4, 5, 6])) # Output: [5 7 9] (Element-wise addition)\n",
        "print((1, 2, 3) + (4, 5, 6)) # Output: (1, 2, 3, 4, 5, 6) (Tuple concatenation)"
      ],
      "metadata": {
        "id": "xBTxQsPdbQX6"
      },
      "execution_count": null,
      "outputs": []
    },
    {
      "cell_type": "markdown",
      "source": [
        "21.Create a 5x5 array with random values and normalize it:"
      ],
      "metadata": {
        "id": "VL6u9sEkbVLt"
      }
    },
    {
      "cell_type": "code",
      "source": [
        "Z = np.random.random((5,5))\n",
        "Z = (Z - Z.min()) / (Z.max() - Z.min())\n",
        "print(Z)"
      ],
      "metadata": {
        "id": "hapvSlNGbvDc"
      },
      "execution_count": null,
      "outputs": []
    },
    {
      "cell_type": "markdown",
      "source": [
        "22.Create a custom dtype that describes a color as four unsigned bytes (RGBA):"
      ],
      "metadata": {
        "id": "lqck67Byb1Rm"
      }
    },
    {
      "cell_type": "code",
      "source": [
        "color_dtype = np.dtype([(\"r\", np.ubyte), (\"g\", np.ubyte), (\"b\", np.ubyte), (\"a\", np.ubyte)])\n",
        "print(color_dtype)"
      ],
      "metadata": {
        "id": "pWFqBBPeb4JH"
      },
      "execution_count": null,
      "outputs": []
    },
    {
      "cell_type": "markdown",
      "source": [
        "23.Multiply a 4x4 matrix by a scalar 2:"
      ],
      "metadata": {
        "id": "PxmdldFRcAsw"
      }
    },
    {
      "cell_type": "code",
      "source": [
        "Z = np.ones((4,4))\n",
        "Z *= 2\n",
        "print(Z)"
      ],
      "metadata": {
        "id": "K_hrSELAcDqt"
      },
      "execution_count": null,
      "outputs": []
    },
    {
      "cell_type": "markdown",
      "source": [
        "24.Given a 1D array, find the most frequent value:"
      ],
      "metadata": {
        "id": "IemnIqljcFtG"
      }
    },
    {
      "cell_type": "code",
      "source": [
        "Z = np.random.randint(0, 10, 50)  # Example array\n",
        "counts = np.bincount(Z)\n",
        "most_frequent = np.argmax(counts)\n",
        "print(most_frequent)"
      ],
      "metadata": {
        "id": "L5-WbfTPcJGs"
      },
      "execution_count": null,
      "outputs": []
    },
    {
      "cell_type": "markdown",
      "source": [
        "25.Extract all the contiguous 3x3 blocks from a 10x10 random matrix:"
      ],
      "metadata": {
        "id": "K6YIRocdcLH0"
      }
    },
    {
      "cell_type": "code",
      "source": [
        "Z = np.random.random((10,10))\n",
        "block_indices = np.lib.stride_tricks.as_strided(Z, (8, 8, 3, 3), Z.strides + Z.strides)\n",
        "print(block_indices)"
      ],
      "metadata": {
        "id": "EAXWC36tcOum"
      },
      "execution_count": null,
      "outputs": []
    },
    {
      "cell_type": "markdown",
      "source": [
        "26.Create a 2D array with 1s on the diagonal and 0s elsewhere (like np.eye, but without the function):"
      ],
      "metadata": {
        "id": "3sfH8m8xcRQB"
      }
    },
    {
      "cell_type": "code",
      "source": [
        "n = 5  # Example size\n",
        "Z = np.zeros((n, n))\n",
        "Z[np.arange(n), np.arange(n)] = 1\n",
        "print(Z)"
      ],
      "metadata": {
        "id": "ZrjbA4_ucVcX"
      },
      "execution_count": null,
      "outputs": []
    },
    {
      "cell_type": "markdown",
      "source": [
        "27.Create a vector of size 10 with values ranging from 0 to 1, excluding both 0 and 1:"
      ],
      "metadata": {
        "id": "RUY-hxgBcX1Y"
      }
    },
    {
      "cell_type": "code",
      "source": [
        "Z = np.linspace(0, 1, 12, endpoint=False)[1:]\n",
        "print(Z)"
      ],
      "metadata": {
        "id": "BeLH_2fKcbhE"
      },
      "execution_count": null,
      "outputs": []
    },
    {
      "cell_type": "markdown",
      "source": [
        "28.Create a random vector of size 10 and sort it:"
      ],
      "metadata": {
        "id": "Sh_8sWe0cd5w"
      }
    },
    {
      "cell_type": "code",
      "source": [
        "Z = np.random.random(10)\n",
        "Z.sort()\n",
        "print(Z)"
      ],
      "metadata": {
        "id": "TpjaG7Cmcg39"
      },
      "execution_count": null,
      "outputs": []
    },
    {
      "cell_type": "markdown",
      "source": [
        "29.How to sum the elements of an array?"
      ],
      "metadata": {
        "id": "n0HGhaCKcjQe"
      }
    },
    {
      "cell_type": "code",
      "source": [
        "Z = np.arange(10)\n",
        "sum_of_elements = np.sum(Z) # Or Z.sum()\n",
        "print(sum_of_elements)"
      ],
      "metadata": {
        "id": "y8hfY11mco8s"
      },
      "execution_count": null,
      "outputs": []
    },
    {
      "cell_type": "markdown",
      "source": [
        "30.How to check if two arrays are equal?"
      ],
      "metadata": {
        "id": "B0UZTNEycsVp"
      }
    },
    {
      "cell_type": "code",
      "source": [
        "A = np.array([1, 2, 3])\n",
        "B = np.array([1, 2, 3])\n",
        "are_equal = np.array_equal(A, B)\n",
        "print(are_equal)"
      ],
      "metadata": {
        "id": "cBLxUvhMcwoS"
      },
      "execution_count": null,
      "outputs": []
    },
    {
      "cell_type": "markdown",
      "source": [
        "31.Find the closest value to a given scalar in an array:"
      ],
      "metadata": {
        "id": "u4-rJVChczA0"
      }
    },
    {
      "cell_type": "code",
      "source": [
        "Z = np.random.uniform(0, 1, 10)\n",
        "z = 0.5\n",
        "closest_val = Z[np.abs(Z - z).argmin()]\n",
        "print(closest_val)"
      ],
      "metadata": {
        "id": "iatdCc3Kc7RI"
      },
      "execution_count": null,
      "outputs": []
    },
    {
      "cell_type": "markdown",
      "source": [
        "32.Create an array with random values and replace the maximum value with 0:"
      ],
      "metadata": {
        "id": "MZ2kvEcsc-B4"
      }
    },
    {
      "cell_type": "code",
      "source": [
        "Z = np.random.random(10)\n",
        "Z[Z.argmax()] = 0\n",
        "print(Z)"
      ],
      "metadata": {
        "id": "ekX9LCrAdCPW"
      },
      "execution_count": null,
      "outputs": []
    },
    {
      "cell_type": "markdown",
      "source": [
        "33.How to get the indices of the sorted elements of an array?"
      ],
      "metadata": {
        "id": "ObpPihLRdEqT"
      }
    },
    {
      "cell_type": "code",
      "source": [
        "Z = np.random.random(10)\n",
        "sorted_indices = np.argsort(Z)\n",
        "print(sorted_indices)"
      ],
      "metadata": {
        "id": "ZGKlrOvBdH6p"
      },
      "execution_count": null,
      "outputs": []
    },
    {
      "cell_type": "markdown",
      "source": [
        "34.Create a 10x10 array with random values and find the 5 largest values:"
      ],
      "metadata": {
        "id": "xIlF7GNddKgU"
      }
    },
    {
      "cell_type": "code",
      "source": [
        "Z = np.random.random((10, 10))\n",
        "largest_5 = Z[np.argsort(Z.flatten())[-5:]] # or np.partition(Z.flatten(), -5)[-5:]\n",
        "print(largest_5)"
      ],
      "metadata": {
        "id": "szTmmITjdN5q"
      },
      "execution_count": null,
      "outputs": []
    },
    {
      "cell_type": "markdown",
      "source": [
        "35.How to compute the mean of an array along an axis?"
      ],
      "metadata": {
        "id": "FajbsiXYdQoL"
      }
    },
    {
      "cell_type": "code",
      "source": [
        "Z = np.random.random((3, 4))\n",
        "mean_along_axis_1 = Z.mean(axis=1)  # Mean along rows (axis 1)\n",
        "mean_along_axis_0 = Z.mean(axis=0)  # Mean along columns (axis 0)\n",
        "print(mean_along_axis_1)\n",
        "print(mean_along_axis_0)"
      ],
      "metadata": {
        "id": "F_AbMOnMdTvm"
      },
      "execution_count": null,
      "outputs": []
    },
    {
      "cell_type": "markdown",
      "source": [
        "36.Broadcasting: How to add a 1D array to each row of a 2D array?"
      ],
      "metadata": {
        "id": "xB9wREwxddFU"
      }
    },
    {
      "cell_type": "code",
      "source": [
        "Z = np.ones((3, 3))\n",
        "row_add = np.array([1, 2, 3])\n",
        "Z += row_add  # NumPy broadcasting handles this efficiently\n",
        "print(Z)"
      ],
      "metadata": {
        "id": "aSKdP8Stdhr_"
      },
      "execution_count": null,
      "outputs": []
    },
    {
      "cell_type": "markdown",
      "source": [
        "37.Given an array, how to swap two rows?"
      ],
      "metadata": {
        "id": "_KuQjsYPdj2_"
      }
    },
    {
      "cell_type": "code",
      "source": [
        "Z = np.arange(25).reshape(5, 5)\n",
        "Z[[0, 1]] = Z[[1, 0]] # Swaps row 0 and row 1\n",
        "print(Z)"
      ],
      "metadata": {
        "id": "2OhSck1mdniF"
      },
      "execution_count": null,
      "outputs": []
    },
    {
      "cell_type": "markdown",
      "source": [
        "38.Create a boolean array from a comparison:\n",
        "\n"
      ],
      "metadata": {
        "id": "J-4awT5adpir"
      }
    },
    {
      "cell_type": "code",
      "source": [
        "Z = np.arange(10)\n",
        "bool_array = Z > 5\n",
        "print(bool_array)"
      ],
      "metadata": {
        "id": "xW6CSF-Rdvx3"
      },
      "execution_count": null,
      "outputs": []
    },
    {
      "cell_type": "markdown",
      "source": [
        "39.How to get the diagonal of a matrix?"
      ],
      "metadata": {
        "id": "Cy6WQmBQdxPq"
      }
    },
    {
      "cell_type": "code",
      "source": [
        "Z = np.arange(9).reshape(3, 3)\n",
        "diagonal = np.diag(Z)\n",
        "print(diagonal)"
      ],
      "metadata": {
        "id": "oy3mqp6Yd1G6"
      },
      "execution_count": null,
      "outputs": []
    },
    {
      "cell_type": "markdown",
      "source": [
        "40.How to create a new array from an existing one, without copying the data?"
      ],
      "metadata": {
        "id": "gmiINnd0d4TG"
      }
    },
    {
      "cell_type": "code",
      "source": [
        "Z = np.arange(10)\n",
        "view_of_z = Z[:5] # A view (shares memory)\n",
        "copy_of_z = Z[:5].copy() # A copy (separate memory)\n",
        "\n",
        "view_of_z[:] = 0 # Modifies original Z\n",
        "copy_of_z[:] = 0 # Does NOT modify original Z\n",
        "\n",
        "print(Z) # Output: [0 0 0 0 0 5 6 7 8 9]"
      ],
      "metadata": {
        "id": "y-o_M8dbd7kO"
      },
      "execution_count": null,
      "outputs": []
    },
    {
      "cell_type": "markdown",
      "source": [
        "41.Compute the dot product of two matrices:"
      ],
      "metadata": {
        "id": "xKxb8Debd988"
      }
    },
    {
      "cell_type": "code",
      "source": [
        "A = np.array([[1, 2], [3, 4]])\n",
        "B = np.array([[5, 6], [7, 8]])\n",
        "dot_product = np.dot(A, B)  # Or A @ B\n",
        "print(dot_product)"
      ],
      "metadata": {
        "id": "luFA5KnzeI2O"
      },
      "execution_count": null,
      "outputs": []
    },
    {
      "cell_type": "markdown",
      "source": [
        "42.Compute the outer product of two vectors:"
      ],
      "metadata": {
        "id": "ZuzAFhzOeLTq"
      }
    },
    {
      "cell_type": "code",
      "source": [
        "a = np.array([1, 2, 3])\n",
        "b = np.array([4, 5, 6])\n",
        "outer_product = np.outer(a, b)\n",
        "print(outer_product)"
      ],
      "metadata": {
        "id": "d1EX889If2Gu"
      },
      "execution_count": null,
      "outputs": []
    },
    {
      "cell_type": "markdown",
      "source": [
        "43.Compute the cross product of two vectors:"
      ],
      "metadata": {
        "id": "Ype_LdUef6y8"
      }
    },
    {
      "cell_type": "code",
      "source": [
        "a = np.array([1, 2, 3])\n",
        "b = np.array([4, 5, 6])\n",
        "cross_product = np.cross(a, b)\n",
        "print(cross_product)"
      ],
      "metadata": {
        "id": "oPH9w8GUgGYD"
      },
      "execution_count": null,
      "outputs": []
    },
    {
      "cell_type": "markdown",
      "source": [
        "44. Compute the trace of a matrix:"
      ],
      "metadata": {
        "id": "GThPA_jTgJXG"
      }
    },
    {
      "cell_type": "code",
      "source": [
        "Z = np.array([[1, 2, 3], [4, 5, 6], [7, 8, 9]])\n",
        "trace = np.trace(Z)\n",
        "print(trace)"
      ],
      "metadata": {
        "id": "t3-Tgpqxgiec"
      },
      "execution_count": null,
      "outputs": []
    },
    {
      "cell_type": "markdown",
      "source": [
        "45.Compute the determinant of a matrix:"
      ],
      "metadata": {
        "id": "r6rSXluzgk1X"
      }
    },
    {
      "cell_type": "code",
      "source": [
        "Z = np.array([[1, 2], [3, 4]])\n",
        "determinant = np.linalg.det(Z)\n",
        "print(determinant)"
      ],
      "metadata": {
        "id": "n8nWIrpsgrc9"
      },
      "execution_count": null,
      "outputs": []
    },
    {
      "cell_type": "markdown",
      "source": [
        "46.Compute the eigenvalues and eigenvectors of a matrix:"
      ],
      "metadata": {
        "id": "MarzjYRKguId"
      }
    },
    {
      "cell_type": "code",
      "source": [
        "Z = np.array([[1, 2], [2, 1]])\n",
        "eigenvalues, eigenvectors = np.linalg.eig(Z)\n",
        "print(\"Eigenvalues:\", eigenvalues)\n",
        "print(\"Eigenvectors:\", eigenvectors)"
      ],
      "metadata": {
        "id": "-qdTprHggxl9"
      },
      "execution_count": null,
      "outputs": []
    },
    {
      "cell_type": "markdown",
      "source": [
        "47.Compute the inverse of a matrix:"
      ],
      "metadata": {
        "id": "znM_8P0ng0c7"
      }
    },
    {
      "cell_type": "code",
      "source": [
        "Z = np.array([[1, 2], [3, 4]])\n",
        "inverse = np.linalg.inv(Z)\n",
        "print(inverse)"
      ],
      "metadata": {
        "id": "NmuGiEudg4Dc"
      },
      "execution_count": null,
      "outputs": []
    },
    {
      "cell_type": "markdown",
      "source": [
        "48.Solve a system of linear equations:"
      ],
      "metadata": {
        "id": "2PyjszsWg6Rr"
      }
    },
    {
      "cell_type": "code",
      "source": [
        "A = np.array([[2, 1], [1, 1]])\n",
        "b = np.array([3, 2])\n",
        "x = np.linalg.solve(A, b)\n",
        "print(x)"
      ],
      "metadata": {
        "id": "SDe490zug-Sq"
      },
      "execution_count": null,
      "outputs": []
    },
    {
      "cell_type": "markdown",
      "source": [
        "49.Find the rank of a matrix:"
      ],
      "metadata": {
        "id": "yyGsEsLThAmg"
      }
    },
    {
      "cell_type": "code",
      "source": [
        "Z = np.array([[1, 2, 3], [4, 5, 6], [7, 8, 9]])\n",
        "rank = np.linalg.matrix_rank(Z)\n",
        "print(rank)"
      ],
      "metadata": {
        "id": "QymMgUDNhFJt"
      },
      "execution_count": null,
      "outputs": []
    },
    {
      "cell_type": "markdown",
      "source": [
        "50.Compute the condition number of a matrix:"
      ],
      "metadata": {
        "id": "oznVbZvXhH2m"
      }
    },
    {
      "cell_type": "code",
      "source": [
        "Z = np.array([[1, 2], [3, 4]])\n",
        "condition_number = np.linalg.cond(Z)\n",
        "print(condition_number)"
      ],
      "metadata": {
        "id": "riEG-GwdhLJl"
      },
      "execution_count": null,
      "outputs": []
    },
    {
      "cell_type": "markdown",
      "source": [
        "51.Compute the condition number of a matrix:"
      ],
      "metadata": {
        "id": "1J4Nv0nphP8K"
      }
    },
    {
      "cell_type": "code",
      "source": [
        "x = np.arange(4, dtype=np.int64)\n",
        "y = np.zeros_like(x)\n",
        "print(y)"
      ],
      "metadata": {
        "id": "FdommIulhVq4"
      },
      "execution_count": null,
      "outputs": []
    },
    {
      "cell_type": "markdown",
      "source": [
        "52.Create an array of ones with the same shape and type as another array:"
      ],
      "metadata": {
        "id": "JouCeG2phYcq"
      }
    },
    {
      "cell_type": "code",
      "source": [
        "x = np.arange(4, dtype=np.float32)\n",
        "y = np.ones_like(x)\n",
        "print(y)"
      ],
      "metadata": {
        "id": "PcSDvCKUmTon"
      },
      "execution_count": null,
      "outputs": []
    },
    {
      "cell_type": "markdown",
      "source": [
        "53.Create an empty array with the same shape and type as another array:"
      ],
      "metadata": {
        "id": "fDquRjc6mY0T"
      }
    },
    {
      "cell_type": "code",
      "source": [
        "x = np.arange(4, dtype=np.int16)\n",
        "y = np.empty_like(x)\n",
        "print(y) # Values will be garbage, not necessarily 0"
      ],
      "metadata": {
        "id": "dWwkMj_pmovG"
      },
      "execution_count": null,
      "outputs": []
    },
    {
      "cell_type": "markdown",
      "source": [
        "54.Create an array filled with a scalar value with the same shape and type as another array:"
      ],
      "metadata": {
        "id": "VjAdCClSmv0M"
      }
    },
    {
      "cell_type": "code",
      "source": [
        "x = np.arange(4, dtype=np.uint8)\n",
        "y = np.full_like(x, 7)\n",
        "print(y)"
      ],
      "metadata": {
        "id": "8XMt8urAm7PZ"
      },
      "execution_count": null,
      "outputs": []
    },
    {
      "cell_type": "markdown",
      "source": [
        "55.Create an array of integers ranging from a start value to an end value, spaced evenly on a log scale:"
      ],
      "metadata": {
        "id": "49Ai52txncLO"
      }
    },
    {
      "cell_type": "code",
      "source": [
        "Z = np.geomspace(1, 1000, 10)\n",
        "print(Z)"
      ],
      "metadata": {
        "id": "JZqFPL0vnhUD",
        "colab": {
          "base_uri": "https://localhost:8080/"
        },
        "outputId": "2928e9f6-0368-4d41-8d62-1f9e3aae402d"
      },
      "execution_count": 3,
      "outputs": [
        {
          "output_type": "stream",
          "name": "stdout",
          "text": [
            "[   1.            2.15443469    4.64158883   10.           21.5443469\n",
            "   46.41588834  100.          215.443469    464.15888336 1000.        ]\n"
          ]
        }
      ]
    },
    {
      "cell_type": "markdown",
      "source": [
        "56.Create a 2x2 matrix with complex numbers:"
      ],
      "metadata": {
        "id": "yLVkK-kJnj0N"
      }
    },
    {
      "cell_type": "code",
      "source": [
        "Z = np.array([[1+2j, 3+4j], [5+6j, 7+8j]])\n",
        "print(Z)"
      ],
      "metadata": {
        "id": "_V5ZAOmVnotl"
      },
      "execution_count": null,
      "outputs": []
    },
    {
      "cell_type": "markdown",
      "source": [
        "57.Create an array of 10 zeros and then set the 5th element to 1:"
      ],
      "metadata": {
        "id": "wilEjG5Rn-We"
      }
    },
    {
      "cell_type": "code",
      "source": [
        "Z = np.zeros(10)\n",
        "Z[4] = 1\n",
        "print(Z)"
      ],
      "metadata": {
        "id": "RaXFMVL0oGw6"
      },
      "execution_count": null,
      "outputs": []
    },
    {
      "cell_type": "markdown",
      "source": [
        "58.Create an array with values from 0 to 9:"
      ],
      "metadata": {
        "id": "DPA5lZPsoIiZ"
      }
    },
    {
      "cell_type": "code",
      "source": [
        "Z = np.arange(10)\n",
        "print(Z)"
      ],
      "metadata": {
        "id": "Xuh4Z2-qoSui"
      },
      "execution_count": null,
      "outputs": []
    },
    {
      "cell_type": "markdown",
      "source": [
        "59.Create a 10x10 array of random integers between 0 and 100 (inclusive):"
      ],
      "metadata": {
        "id": "u5BeeAOuoU1Y"
      }
    },
    {
      "cell_type": "code",
      "source": [
        "Z = np.random.randint(0, 101, (10, 10))\n",
        "print(Z)"
      ],
      "metadata": {
        "id": "-zfVoOPjoYDJ"
      },
      "execution_count": null,
      "outputs": []
    },
    {
      "cell_type": "markdown",
      "source": [
        "60.Create a (3, 3, 3) array filled with ones:"
      ],
      "metadata": {
        "id": "jvsyuOY7odh6"
      }
    },
    {
      "cell_type": "code",
      "source": [
        "Z = np.ones((3, 3, 3))\n",
        "print(Z)"
      ],
      "metadata": {
        "id": "dHxIKFENohpP"
      },
      "execution_count": null,
      "outputs": []
    },
    {
      "cell_type": "markdown",
      "source": [
        "61.Reshape an array from (2,2,2) to (2,4):"
      ],
      "metadata": {
        "id": "ElGwPd-kojyj"
      }
    },
    {
      "cell_type": "code",
      "source": [
        "Z = np.arange(8).reshape((2,2,2))\n",
        "reshaped_z = Z.reshape((2,4))\n",
        "print(reshaped_z)"
      ],
      "metadata": {
        "id": "A04Jhr4Joq9Z"
      },
      "execution_count": null,
      "outputs": []
    },
    {
      "cell_type": "markdown",
      "source": [
        "62.Flatten an array:"
      ],
      "metadata": {
        "id": "ohU4DN_NoszK"
      }
    },
    {
      "cell_type": "code",
      "source": [
        "Z = np.arange(9).reshape((3,3))\n",
        "flattened_z = Z.flatten() # Or Z.reshape(-1)\n",
        "print(flattened_z)"
      ],
      "metadata": {
        "id": "sQCA4xQIp5Um"
      },
      "execution_count": null,
      "outputs": []
    },
    {
      "cell_type": "markdown",
      "source": [
        "63.Stack two arrays horizontally:"
      ],
      "metadata": {
        "id": "dwwPdj1fqhVJ"
      }
    },
    {
      "cell_type": "code",
      "source": [
        "a = np.array([1, 2, 3])\n",
        "b = np.array([4, 5, 6])\n",
        "stacked_array = np.hstack((a, b)) # Or np.concatenate((a,b))\n",
        "print(stacked_array)"
      ],
      "metadata": {
        "id": "tJ53kkxqqoIV"
      },
      "execution_count": null,
      "outputs": []
    },
    {
      "cell_type": "markdown",
      "source": [
        "64.Stack two arrays vertically:"
      ],
      "metadata": {
        "id": "fE8Ailerqu4s"
      }
    },
    {
      "cell_type": "code",
      "source": [
        "a = np.array([1, 2, 3])\n",
        "b = np.array([4, 5, 6])\n",
        "stacked_array = np.vstack((a, b)) # Or np.concatenate((a.reshape(1,-1),b.reshape(1,-1)), axis=0)\n",
        "print(stacked_array)"
      ],
      "metadata": {
        "id": "kpdAQwcTqz5j"
      },
      "execution_count": null,
      "outputs": []
    },
    {
      "cell_type": "markdown",
      "source": [
        "65.Split an array into 3 sub-arrays:"
      ],
      "metadata": {
        "id": "4kKrIZnwrNIz"
      }
    },
    {
      "cell_type": "code",
      "source": [
        "Z = np.arange(9)\n",
        "sub_arrays = np.split(Z, 3)\n",
        "print(sub_arrays)"
      ],
      "metadata": {
        "id": "rbFsswOKrT5Z"
      },
      "execution_count": null,
      "outputs": []
    },
    {
      "cell_type": "markdown",
      "source": [
        "67.Split an array vertically at the 2nd index:"
      ],
      "metadata": {
        "id": "pzdEBR5zzes5"
      }
    },
    {
      "cell_type": "code",
      "source": [
        "Z = np.arange(10).reshape(5,2)\n",
        "top, bottom = np.vsplit(Z, [2]) # Or np.split(Z, [2], axis=0)\n",
        "print(\"Top:\", top)\n",
        "print(\"Bottom:\", bottom)"
      ],
      "metadata": {
        "id": "QxgtzeO6ziUk"
      },
      "execution_count": null,
      "outputs": []
    },
    {
      "cell_type": "markdown",
      "source": [
        "68.Add a new axis to an array:"
      ],
      "metadata": {
        "id": "Wn8lx5zezkjT"
      }
    },
    {
      "cell_type": "code",
      "source": [
        "Z = np.array([1, 2, 3])\n",
        "new_z = Z[:, np.newaxis]  # Adds a new axis along columns\n",
        "print(new_z)"
      ],
      "metadata": {
        "id": "uO3785cxzqlM"
      },
      "execution_count": null,
      "outputs": []
    },
    {
      "cell_type": "markdown",
      "source": [
        "69.Remove dimensions of size one from an array:"
      ],
      "metadata": {
        "id": "oc_0BeJhz0wa"
      }
    },
    {
      "cell_type": "code",
      "source": [
        "Z = np.array([[[1, 2, 3]]])\n",
        "squeezed_z = np.squeeze(Z)\n",
        "print(squeezed_z)"
      ],
      "metadata": {
        "id": "RGuk6ZGbz3rO"
      },
      "execution_count": null,
      "outputs": []
    },
    {
      "cell_type": "markdown",
      "source": [
        "70.Transpose an array:"
      ],
      "metadata": {
        "id": "5KINhWyt0Ahp"
      }
    },
    {
      "cell_type": "code",
      "source": [
        "Z = np.arange(9).reshape((3,3))\n",
        "transposed_z = Z.T # Or np.transpose(Z)\n",
        "print(transposed_z)"
      ],
      "metadata": {
        "id": "fxbFZR2l0GLt"
      },
      "execution_count": null,
      "outputs": []
    },
    {
      "cell_type": "markdown",
      "source": [
        "71.Compute the sum of all elements in an array:"
      ],
      "metadata": {
        "id": "PDm9O3QLUtNy"
      }
    },
    {
      "cell_type": "code",
      "source": [
        "Z = np.arange(10)\n",
        "total_sum = np.sum(Z)  # Or Z.sum()\n",
        "print(total_sum)"
      ],
      "metadata": {
        "colab": {
          "base_uri": "https://localhost:8080/"
        },
        "id": "yv7L3Yf3U5RE",
        "outputId": "75ad77a4-40ff-44bc-a444-404b5fbd9bbf"
      },
      "execution_count": 4,
      "outputs": [
        {
          "output_type": "stream",
          "name": "stdout",
          "text": [
            "45\n"
          ]
        }
      ]
    },
    {
      "cell_type": "markdown",
      "source": [
        "72.Compute the product of all elements in an array:"
      ],
      "metadata": {
        "id": "TJzIDA9jU9bh"
      }
    },
    {
      "cell_type": "code",
      "source": [
        "Z = np.array([1, 2, 3, 4])\n",
        "product = np.prod(Z)\n",
        "print(product)"
      ],
      "metadata": {
        "id": "3AFSqRR1VBaa"
      },
      "execution_count": null,
      "outputs": []
    },
    {
      "cell_type": "markdown",
      "source": [
        "73.Compute the mean of an array:"
      ],
      "metadata": {
        "id": "SYeRXsj0VE8g"
      }
    },
    {
      "cell_type": "code",
      "source": [
        "Z = np.array([1, 2, 3, 4, 5])\n",
        "mean = np.mean(Z)  # Or Z.mean()\n",
        "print(mean)"
      ],
      "metadata": {
        "id": "-517D7m_VIVI"
      },
      "execution_count": null,
      "outputs": []
    },
    {
      "cell_type": "markdown",
      "source": [
        "74.Compute the median of an array:"
      ],
      "metadata": {
        "id": "BBNexQyYVL8y"
      }
    },
    {
      "cell_type": "code",
      "source": [
        "Z = np.array([1, 3, 5, 2, 4])\n",
        "median = np.median(Z)\n",
        "print(median)"
      ],
      "metadata": {
        "id": "xZhs0uChVSY6"
      },
      "execution_count": null,
      "outputs": []
    },
    {
      "cell_type": "markdown",
      "source": [
        "75.Compute the standard deviation of an array:"
      ],
      "metadata": {
        "id": "P-N0Q6GFVVm1"
      }
    },
    {
      "cell_type": "code",
      "source": [
        "Z = np.array([1, 2, 3, 4, 5])\n",
        "std_dev = np.std(Z)  # Or Z.std()\n",
        "print(std_dev)"
      ],
      "metadata": {
        "id": "V27ZkwsAVZjc"
      },
      "execution_count": null,
      "outputs": []
    },
    {
      "cell_type": "markdown",
      "source": [
        "76.Compute the variance of an array:"
      ],
      "metadata": {
        "id": "ntZktXsHVb9y"
      }
    },
    {
      "cell_type": "code",
      "source": [
        "Z = np.array([1, 2, 3, 4, 5])\n",
        "variance = np.var(Z)  # Or Z.var()\n",
        "print(variance)"
      ],
      "metadata": {
        "id": "xGXSxhnXVe2M"
      },
      "execution_count": null,
      "outputs": []
    },
    {
      "cell_type": "markdown",
      "source": [
        "77.Find the minimum value in an array:"
      ],
      "metadata": {
        "id": "a_wS81U5Vhva"
      }
    },
    {
      "cell_type": "code",
      "source": [
        "Z = np.array([5, 2, 8, 1, 9])\n",
        "min_val = np.min(Z)  # Or Z.min()\n",
        "print(min_val)"
      ],
      "metadata": {
        "id": "4tOvFmfAVk02"
      },
      "execution_count": null,
      "outputs": []
    },
    {
      "cell_type": "markdown",
      "source": [
        "78.Find the maximum value in an array:"
      ],
      "metadata": {
        "id": "D84Dc8a1Vnvf"
      }
    },
    {
      "cell_type": "code",
      "source": [
        "Z = np.array([5, 2, 8, 1, 9])\n",
        "max_val = np.max(Z)  # Or Z.max()\n",
        "print(max_val)"
      ],
      "metadata": {
        "id": "zU2bIfhKVrHv"
      },
      "execution_count": null,
      "outputs": []
    },
    {
      "cell_type": "markdown",
      "source": [
        "79.Find the index of the minimum value in an array:"
      ],
      "metadata": {
        "id": "ZeRyPGBUV1Py"
      }
    },
    {
      "cell_type": "code",
      "source": [
        "Z = np.array([5, 2, 8, 1, 9])\n",
        "argmin_val = np.argmin(Z)\n",
        "print(argmin_val)"
      ],
      "metadata": {
        "id": "Hg6_ROjAV5Jg"
      },
      "execution_count": null,
      "outputs": []
    },
    {
      "cell_type": "markdown",
      "source": [
        "80.Find the index of the maximum value in an array:"
      ],
      "metadata": {
        "id": "7EPUgoYYV8t8"
      }
    },
    {
      "cell_type": "code",
      "source": [
        "Z = np.array([5, 2, 8, 1, 9])\n",
        "argmax_val = np.argmax(Z)\n",
        "print(argmax_val)"
      ],
      "metadata": {
        "id": "QrokkxrBWABg"
      },
      "execution_count": null,
      "outputs": []
    },
    {
      "cell_type": "markdown",
      "source": [
        "81.How to subtract a scalar from every element of an array?\n"
      ],
      "metadata": {
        "id": "XcMqyjFcWCmR"
      }
    },
    {
      "cell_type": "code",
      "source": [
        "Z = np.array([1, 2, 3, 4])\n",
        "scalar = 2\n",
        "subtracted_array = Z - scalar\n",
        "print(subtracted_array)"
      ],
      "metadata": {
        "id": "K9ts_m5lWgQ4"
      },
      "execution_count": null,
      "outputs": []
    },
    {
      "cell_type": "markdown",
      "source": [
        "82.How to multiply every element of an array by a scalar?"
      ],
      "metadata": {
        "id": "sX6msnz3WijM"
      }
    },
    {
      "cell_type": "code",
      "source": [
        "Z = np.array([1, 2, 3, 4])\n",
        "scalar = 3\n",
        "multiplied_array = Z * scalar\n",
        "print(multiplied_array)"
      ],
      "metadata": {
        "id": "TawC6eP3WmBC"
      },
      "execution_count": null,
      "outputs": []
    },
    {
      "cell_type": "markdown",
      "source": [
        "83.How to divide every element of an array by a scalar?"
      ],
      "metadata": {
        "id": "oDlKJcitWpEW"
      }
    },
    {
      "cell_type": "code",
      "source": [
        "Z = np.array([1, 2, 3, 4])\n",
        "scalar = 2\n",
        "divided_array = Z / scalar\n",
        "print(divided_array)"
      ],
      "metadata": {
        "id": "q64Qlr41Wwvr"
      },
      "execution_count": null,
      "outputs": []
    },
    {
      "cell_type": "markdown",
      "source": [
        "84.How to raise every element of an array to a power?"
      ],
      "metadata": {
        "id": "8BNwukrRWzzj"
      }
    },
    {
      "cell_type": "code",
      "source": [
        "Z = np.array([1, 2, 3, 4])\n",
        "power = 2\n",
        "powered_array = Z ** power\n",
        "print(powered_array)"
      ],
      "metadata": {
        "id": "JUFcOcPvW4j2"
      },
      "execution_count": null,
      "outputs": []
    },
    {
      "cell_type": "markdown",
      "source": [
        "85.How to compute the element-wise absolute value of an array?"
      ],
      "metadata": {
        "id": "28PGvLtYW7jq"
      }
    },
    {
      "cell_type": "code",
      "source": [
        "Z = np.array([-1, 2, -3, 4])\n",
        "abs_array = np.abs(Z)\n",
        "print(abs_array)"
      ],
      "metadata": {
        "id": "uaSzI7arXBKe"
      },
      "execution_count": null,
      "outputs": []
    },
    {
      "cell_type": "markdown",
      "source": [
        "86.How to compute the element-wise sine of an array?"
      ],
      "metadata": {
        "id": "TIZPHwrGXDgp"
      }
    },
    {
      "cell_type": "code",
      "source": [
        "Z = np.array([0, np.pi/2, np.pi])\n",
        "sin_array = np.sin(Z)\n",
        "print(sin_array)"
      ],
      "metadata": {
        "id": "9GSEMGaXXG4g"
      },
      "execution_count": null,
      "outputs": []
    },
    {
      "cell_type": "markdown",
      "source": [
        "87.How to compute the element-wise cosine of an array?"
      ],
      "metadata": {
        "id": "D4rNuKv8XJdM"
      }
    },
    {
      "cell_type": "code",
      "source": [
        "Z = np.array([0, np.pi/2, np.pi])\n",
        "cos_array = np.cos(Z)\n",
        "print(cos_array)"
      ],
      "metadata": {
        "id": "Ix1mI-iZXMzr"
      },
      "execution_count": null,
      "outputs": []
    },
    {
      "cell_type": "markdown",
      "source": [
        "88.How to compute the element-wise exponential of an array?"
      ],
      "metadata": {
        "id": "A6bp8iWAXPzT"
      }
    },
    {
      "cell_type": "code",
      "source": [
        "Z = np.array([0, 1, 2])\n",
        "exp_array = np.exp(Z)\n",
        "print(exp_array)"
      ],
      "metadata": {
        "id": "Jt4jLFGZXUT8"
      },
      "execution_count": null,
      "outputs": []
    },
    {
      "cell_type": "markdown",
      "source": [
        "89.How to compute the element-wise logarithm of an array?"
      ],
      "metadata": {
        "id": "xl6cDCeUXmpQ"
      }
    },
    {
      "cell_type": "code",
      "source": [
        "Z = np.array([1, 2, np.e])\n",
        "log_array = np.log(Z)\n",
        "print(log_array)"
      ],
      "metadata": {
        "id": "vCMonY5EXqK0"
      },
      "execution_count": null,
      "outputs": []
    },
    {
      "cell_type": "markdown",
      "source": [
        "90.How to clip the values in an array to a specified range?"
      ],
      "metadata": {
        "id": "RUTE4IZ7Xsoo"
      }
    },
    {
      "cell_type": "code",
      "source": [
        "Z = np.array([1, 2, 3, 4, 5])\n",
        "clipped_array = np.clip(Z, 2, 4)  # Values below 2 become 2, above 4 become 4\n",
        "print(clipped_array)"
      ],
      "metadata": {
        "id": "Yh-eExUmXwyO"
      },
      "execution_count": null,
      "outputs": []
    },
    {
      "cell_type": "markdown",
      "source": [
        "91.How to find the unique elements in an array?"
      ],
      "metadata": {
        "id": "qMV1axVBXzhr"
      }
    },
    {
      "cell_type": "code",
      "source": [
        "Z = np.array([1, 2, 2, 3, 3, 3])\n",
        "unique_elements = np.unique(Z)\n",
        "print(unique_elements)"
      ],
      "metadata": {
        "id": "Pb6tGsG_X6ZX"
      },
      "execution_count": null,
      "outputs": []
    },
    {
      "cell_type": "markdown",
      "source": [
        "92.How to count the occurrences of each value in an array?"
      ],
      "metadata": {
        "id": "EkbFMobdX9-J"
      }
    },
    {
      "cell_type": "code",
      "source": [
        "Z = np.array([1, 2, 2, 3, 3, 3])\n",
        "counts = np.bincount(Z) # For non-negative integers\n",
        "print(counts)"
      ],
      "metadata": {
        "id": "Ehd33k1IYBXj"
      },
      "execution_count": null,
      "outputs": []
    },
    {
      "cell_type": "markdown",
      "source": [
        "93.How to create a repeating sequence of numbers?"
      ],
      "metadata": {
        "id": "8XV86WfzYDlp"
      }
    },
    {
      "cell_type": "code",
      "source": [
        "Z = np.tile([1, 2, 3], 3) # Repeats [1,2,3] three times\n",
        "print(Z)"
      ],
      "metadata": {
        "id": "Z6hvm-wjYHAR"
      },
      "execution_count": null,
      "outputs": []
    },
    {
      "cell_type": "markdown",
      "source": [
        "94.How to create a sequence of numbers that repeat a certain number of times?"
      ],
      "metadata": {
        "id": "hP2__rPeYLnq"
      }
    },
    {
      "cell_type": "code",
      "source": [
        "Z = np.repeat([1, 2, 3], [2, 2, 3]) # Repeats 1 twice, 2 twice, 3 thrice\n",
        "print(Z)"
      ],
      "metadata": {
        "id": "xGix4OZ2YNlf"
      },
      "execution_count": null,
      "outputs": []
    },
    {
      "cell_type": "markdown",
      "source": [
        "95.How to create a meshgrid?"
      ],
      "metadata": {
        "id": "NsLa5is7YPpA"
      }
    },
    {
      "cell_type": "code",
      "source": [
        "x = np.array([1, 2, 3])\n",
        "y = np.array([4, 5, 6])\n",
        "X, Y = np.meshgrid(x, y)\n",
        "print(\"X:\\n\", X)\n",
        "print(\"Y:\\n\", Y)"
      ],
      "metadata": {
        "id": "ZemMw_c0YTFf"
      },
      "execution_count": null,
      "outputs": []
    },
    {
      "cell_type": "markdown",
      "source": [
        "96.How to perform a reduction across an axis?"
      ],
      "metadata": {
        "id": "R1ztyOsdYVoj"
      }
    },
    {
      "cell_type": "code",
      "source": [
        "Z = np.array([[1, 2, 3], [4, 5, 6]])\n",
        "sum_across_rows = np.sum(Z, axis=1)  # Sum across rows\n",
        "print(sum_across_rows)"
      ],
      "metadata": {
        "id": "ZWarZYR3YZ2N"
      },
      "execution_count": null,
      "outputs": []
    },
    {
      "cell_type": "markdown",
      "source": [
        "97.How to apply a function to each element of an array?"
      ],
      "metadata": {
        "id": "Qz5ytB8-Yb_H"
      }
    },
    {
      "cell_type": "code",
      "source": [
        "Z = np.array([1, 2, 3])\n",
        "squared_array = np.vectorize(lambda x: x**2)(Z)\n",
        "print(squared_array)"
      ],
      "metadata": {
        "id": "A0QUktatYfUK"
      },
      "execution_count": null,
      "outputs": []
    },
    {
      "cell_type": "markdown",
      "source": [
        "98.How to create a sliding window view of an array?"
      ],
      "metadata": {
        "id": "KSmQXTeJYh7o"
      }
    },
    {
      "cell_type": "code",
      "source": [
        "a = np.arange(20)\n",
        "window_shape = (5,)\n",
        "strides = (a.itemsize,)\n",
        "rolling_windows = np.lib.stride_tricks.as_strided(a, shape=(a.size - window_shape[0] + 1, *window_shape), strides=strides + a.strides)\n",
        "print(rolling_windows)"
      ],
      "metadata": {
        "id": "ahgCduwXYlIP"
      },
      "execution_count": null,
      "outputs": []
    },
    {
      "cell_type": "markdown",
      "source": [
        "99.How to create a boolean mask from an array based on a condition?"
      ],
      "metadata": {
        "id": "5gAdhL3IYntT"
      }
    },
    {
      "cell_type": "code",
      "source": [
        "Z = np.array([1, 2, 3, 4, 5])\n",
        "mask = Z > 2\n",
        "print(mask)"
      ],
      "metadata": {
        "colab": {
          "base_uri": "https://localhost:8080/"
        },
        "id": "QaVL0g7ZYr50",
        "outputId": "df0eeb96-d7a4-4f16-c8b2-d29d7b84381d"
      },
      "execution_count": 8,
      "outputs": [
        {
          "output_type": "stream",
          "name": "stdout",
          "text": [
            "[False False  True  True  True]\n"
          ]
        }
      ]
    },
    {
      "cell_type": "markdown",
      "source": [
        "100.How to extract elements from an array using a boolean mask?"
      ],
      "metadata": {
        "id": "2wQst89bYuzO"
      }
    },
    {
      "cell_type": "code",
      "source": [
        "Z = np.array([1, 2, 3, 4, 5])\n",
        "mask = Z > 2\n",
        "extracted_elements = Z[mask]\n",
        "print(extracted_elements)  # Output: [3 4 5]"
      ],
      "metadata": {
        "colab": {
          "base_uri": "https://localhost:8080/"
        },
        "id": "oVVNH75dZMu_",
        "outputId": "91720602-63fb-4b34-b97a-031b9de5df6e"
      },
      "execution_count": 12,
      "outputs": [
        {
          "output_type": "stream",
          "name": "stdout",
          "text": [
            "[3 4 5]\n"
          ]
        }
      ]
    },
    {
      "cell_type": "markdown",
      "source": [
        "#**Matplotlib**"
      ],
      "metadata": {
        "id": "Tv6HYIZEZ9hz"
      }
    },
    {
      "cell_type": "code",
      "source": [
        "import matplotlib.pyplot as plt\n",
        "import numpy as np\n",
        "\n"
      ],
      "metadata": {
        "id": "D2cqwpRJaC78"
      },
      "execution_count": 26,
      "outputs": []
    },
    {
      "cell_type": "markdown",
      "source": [
        "1. Line Plot: Showing a trend over time"
      ],
      "metadata": {
        "id": "35HOD4xFaTXv"
      }
    },
    {
      "cell_type": "code",
      "source": [
        "x = np.linspace(0, 10, 100)\n",
        "y = np.sin(x)\n",
        "plt.plot(x, y)\n",
        "plt.xlabel(\"Time\")\n",
        "plt.ylabel(\"Value\")\n",
        "plt.title(\"Sine Wave\")\n",
        "plt.show()\n"
      ],
      "metadata": {
        "colab": {
          "base_uri": "https://localhost:8080/",
          "height": 472
        },
        "id": "6P35bCy7aW_M",
        "outputId": "573607a3-486e-4c0c-97fd-f5d4e2333de2"
      },
      "execution_count": 15,
      "outputs": [
        {
          "output_type": "display_data",
          "data": {
            "text/plain": [
              "<Figure size 640x480 with 1 Axes>"
            ],
            "image/png": "[encoded data removed]"
          },
          "metadata": {}
        }
      ]
    },
    {
      "cell_type": "markdown",
      "source": [
        "2. Scatter Plot: Showing the relationship between two variables"
      ],
      "metadata": {
        "id": "-XfGCBaKai-o"
      }
    },
    {
      "cell_type": "code",
      "source": [
        "x = np.random.rand(100)\n",
        "y = np.random.rand(100)\n",
        "plt.scatter(x, y)\n",
        "plt.xlabel(\"Variable X\")\n",
        "plt.ylabel(\"Variable Y\")\n",
        "plt.title(\"Scatter Plot of Two Random Variables\")\n",
        "plt.show()\n"
      ],
      "metadata": {
        "colab": {
          "base_uri": "https://localhost:8080/",
          "height": 472
        },
        "id": "Br1QIA_NamG7",
        "outputId": "524170e2-fdd1-4f6d-eb23-7c2fd853b169"
      },
      "execution_count": 16,
      "outputs": [
        {
          "output_type": "display_data",
          "data": {
            "text/plain": [
              "<Figure size 640x480 with 1 Axes>"
            ],
            "image/png": "[encoded data removed]"
          },
          "metadata": {}
        }
      ]
    },
    {
      "cell_type": "markdown",
      "source": [
        "3. Bar Chart: Comparing values across categories"
      ],
      "metadata": {
        "id": "wBTTxHzbatQr"
      }
    },
    {
      "cell_type": "code",
      "source": [
        "categories = [\"A\", \"B\", \"C\", \"D\"]\n",
        "values = [25, 40, 30, 55]\n",
        "plt.bar(categories, values)\n",
        "plt.xlabel(\"Categories\")\n",
        "plt.ylabel(\"Values\")\n",
        "plt.title(\"Bar Chart of Category Values\")\n",
        "plt.show()\n"
      ],
      "metadata": {
        "colab": {
          "base_uri": "https://localhost:8080/",
          "height": 472
        },
        "id": "untR3MjXawji",
        "outputId": "5edd145b-e7be-4dbf-bbbd-3aa896f9639c"
      },
      "execution_count": 17,
      "outputs": [
        {
          "output_type": "display_data",
          "data": {
            "text/plain": [
              "<Figure size 640x480 with 1 Axes>"
            ],
            "image/png": "[encoded data removed]"
          },
          "metadata": {}
        }
      ]
    },
    {
      "cell_type": "markdown",
      "source": [
        "4. Histogram: Showing the distribution of a single variable"
      ],
      "metadata": {
        "id": "civNXo_UazQN"
      }
    },
    {
      "cell_type": "code",
      "source": [
        "data = np.random.normal(0, 1, 1000)  # Normally distributed data\n",
        "plt.hist(data, bins=30) # Adjust bins for granularity\n",
        "plt.xlabel(\"Value\")\n",
        "plt.ylabel(\"Frequency\")\n",
        "plt.title(\"Histogram of Normally Distributed Data\")\n",
        "plt.show()"
      ],
      "metadata": {
        "colab": {
          "base_uri": "https://localhost:8080/",
          "height": 472
        },
        "id": "ZnWW3ACNa2Gs",
        "outputId": "c2b17a8c-5b62-4520-b032-13b6272bd9b4"
      },
      "execution_count": 18,
      "outputs": [
        {
          "output_type": "display_data",
          "data": {
            "text/plain": [
              "<Figure size 640x480 with 1 Axes>"
            ],
            "image/png": "[encoded data removed]"
          },
          "metadata": {}
        }
      ]
    },
    {
      "cell_type": "markdown",
      "source": [
        "5. Pie Chart: Showing proportions of different parts of a whole"
      ],
      "metadata": {
        "id": "zfJt-lrqa_cU"
      }
    },
    {
      "cell_type": "code",
      "source": [
        "labels = [\"Apples\", \"Bananas\", \"Oranges\", \"Grapes\"]\n",
        "sizes = [30, 25, 20, 15]\n",
        "plt.pie(sizes, labels=labels, autopct=\"%1.1f%%\") # autopct formats percentages\n",
        "plt.title(\"Pie Chart of Fruit Distribution\")\n",
        "plt.show()\n"
      ],
      "metadata": {
        "colab": {
          "base_uri": "https://localhost:8080/",
          "height": 428
        },
        "id": "oAcRsPpYbDwS",
        "outputId": "8164b89e-48c1-4c8b-838c-de6332b6da80"
      },
      "execution_count": 25,
      "outputs": [
        {
          "output_type": "display_data",
          "data": {
            "text/plain": [
              "<Figure size 640x480 with 1 Axes>"
            ],
            "image/png": "[encoded data removed]"
          },
          "metadata": {}
        }
      ]
    },
    {
      "cell_type": "markdown",
      "source": [
        "6. Box Plot: Showing the distribution and outliers of data"
      ],
      "metadata": {
        "id": "3t7rbGOjbJcb"
      }
    },
    {
      "cell_type": "code",
      "source": [
        "data = [np.random.normal(0, 1, 100), np.random.normal(1, 1.5, 150), np.random.normal(-1, 0.5, 75)]\n",
        "plt.boxplot(data, labels=[\"Group 1\", \"Group 2\", \"Group 3\"])\n",
        "plt.ylabel(\"Values\")\n",
        "plt.title(\"Box Plot of Multiple Groups\")\n",
        "plt.show()\n"
      ],
      "metadata": {
        "colab": {
          "base_uri": "https://localhost:8080/",
          "height": 507
        },
        "id": "7xlepYffbT_B",
        "outputId": "e8f1f66a-80ed-41ec-ad16-cfbc0ee8c049"
      },
      "execution_count": 24,
      "outputs": [
        {
          "output_type": "stream",
          "name": "stderr",
          "text": [
            "<ipython-input-24-83c57333be63>:2: MatplotlibDeprecationWarning: The 'labels' parameter of boxplot() has been renamed 'tick_labels' since Matplotlib 3.9; support for the old name will be dropped in 3.11.\n",
            "  plt.boxplot(data, labels=[\"Group 1\", \"Group 2\", \"Group 3\"])\n"
          ]
        },
        {
          "output_type": "display_data",
          "data": {
            "text/plain": [
              "<Figure size 640x480 with 1 Axes>"
            ],
            "image/png": "[encoded data removed]"
          },
          "metadata": {}
        }
      ]
    },
    {
      "cell_type": "markdown",
      "source": [
        "7. Area Chart: Showing the cumulative total of values over time"
      ],
      "metadata": {
        "id": "JszwYeymbZWb"
      }
    },
    {
      "cell_type": "code",
      "source": [
        "x = np.linspace(0, 10, 100)\n",
        "y = np.sin(x)\n",
        "plt.fill_between(x, y) # Fills the area under the curve\n",
        "plt.xlabel(\"Time\")\n",
        "plt.ylabel(\"Value\")\n",
        "plt.title(\"Area Chart of Sine Wave\")\n",
        "plt.show()\n"
      ],
      "metadata": {
        "colab": {
          "base_uri": "https://localhost:8080/",
          "height": 472
        },
        "id": "_I-K74YLbcPd",
        "outputId": "11dae86f-32da-4330-9ca5-21f4c3018400"
      },
      "execution_count": 23,
      "outputs": [
        {
          "output_type": "display_data",
          "data": {
            "text/plain": [
              "<Figure size 640x480 with 1 Axes>"
            ],
            "image/png": "[encoded data removed]"
          },
          "metadata": {}
        }
      ]
    },
    {
      "cell_type": "markdown",
      "source": [
        "8. Stacked Bar Chart: Comparing the composition of different categories"
      ],
      "metadata": {
        "id": "mThBeuOsbfM6"
      }
    },
    {
      "cell_type": "code",
      "source": [
        "categories = [\"A\", \"B\", \"C\"]\n",
        "values1 = [20, 35, 15]\n",
        "values2 = [10, 25, 20]\n",
        "plt.bar(categories, values1, label=\"Set 1\")\n",
        "plt.bar(categories, values2, bottom=values1, label=\"Set 2\") # Stacked on top of values1\n",
        "plt.xlabel(\"Categories\")\n",
        "plt.ylabel(\"Values\")\n",
        "plt.title(\"Stacked Bar Chart\")\n",
        "plt.legend() # Show the legend\n",
        "plt.show()"
      ],
      "metadata": {
        "colab": {
          "base_uri": "https://localhost:8080/",
          "height": 472
        },
        "id": "T70PLBpObiK2",
        "outputId": "18d23dde-b080-4853-e61f-43665c0f90f6"
      },
      "execution_count": 22,
      "outputs": [
        {
          "output_type": "display_data",
          "data": {
            "text/plain": [
              "<Figure size 640x480 with 1 Axes>"
            ],
            "image/png": "[encoded data removed]"
          },
          "metadata": {}
        }
      ]
    },
    {
      "cell_type": "markdown",
      "source": [
        "9. Polar Chart: Showing data that is cyclical or angular in nature"
      ],
      "metadata": {
        "id": "QJslGhRiblZi"
      }
    },
    {
      "cell_type": "code",
      "source": [
        "theta = np.linspace(0, 2*np.pi, 100)\n",
        "r = np.sin(2*theta)\n",
        "plt.polar(theta, r)\n",
        "plt.title(\"Polar Chart\")\n",
        "plt.show()\n"
      ],
      "metadata": {
        "colab": {
          "base_uri": "https://localhost:8080/",
          "height": 459
        },
        "id": "Qrs-vPH4bpAE",
        "outputId": "837a4255-198d-4969-8a79-bb2ea3eef6aa"
      },
      "execution_count": 21,
      "outputs": [
        {
          "output_type": "display_data",
          "data": {
            "text/plain": [
              "<Figure size 640x480 with 1 Axes>"
            ],
            "image/png": "[encoded data removed]"
          },
          "metadata": {}
        }
      ]
    },
    {
      "cell_type": "markdown",
      "source": [
        "10. Image/Heatmap: Showing data as a color-coded grid"
      ],
      "metadata": {
        "id": "w8n-as2ebsKE"
      }
    },
    {
      "cell_type": "code",
      "source": [
        "data = np.random.rand(10, 10)\n",
        "plt.imshow(data, cmap=\"viridis\") # cmap changes the color scheme\n",
        "plt.colorbar() # Show the colorbar\n",
        "plt.title(\"Heatmap\")\n",
        "plt.show()"
      ],
      "metadata": {
        "colab": {
          "base_uri": "https://localhost:8080/",
          "height": 452
        },
        "id": "gnKhxL1Cbv1Z",
        "outputId": "1b07252f-4ef9-4cd2-d896-4bcd53b71ede"
      },
      "execution_count": 20,
      "outputs": [
        {
          "output_type": "display_data",
          "data": {
            "text/plain": [
              "<Figure size 640x480 with 2 Axes>"
            ],
            "image/png": "[encoded data removed]"
          },
          "metadata": {}
        }
      ]
    },
    {
      "cell_type": "markdown",
      "source": [
        "#**Seaborn**"
      ],
      "metadata": {
        "id": "VxkH4Ca6cIPr"
      }
    },
    {
      "cell_type": "code",
      "source": [
        "import seaborn as sns\n",
        "import matplotlib.pyplot as plt\n",
        "import pandas as pd\n",
        "import numpy as np"
      ],
      "metadata": {
        "id": "xzIPUM1kck09"
      },
      "execution_count": 27,
      "outputs": []
    },
    {
      "cell_type": "markdown",
      "source": [
        "1. Distribution Plot (Histogram with KDE): Visualizing data distribution"
      ],
      "metadata": {
        "id": "n-K_mCEfczEI"
      }
    },
    {
      "cell_type": "code",
      "source": [
        "data = np.random.normal(0, 1, 100)\n",
        "sns.histplot(data, kde=True)  # kde adds a Kernel Density Estimate\n",
        "plt.title(\"Distribution Plot\")\n",
        "plt.show()"
      ],
      "metadata": {
        "colab": {
          "base_uri": "https://localhost:8080/",
          "height": 452
        },
        "id": "Q0zO6GyKc3Pr",
        "outputId": "5716b071-343d-4011-ace0-6c47b0f16f7e"
      },
      "execution_count": 28,
      "outputs": [
        {
          "output_type": "display_data",
          "data": {
            "text/plain": [
              "<Figure size 640x480 with 1 Axes>"
            ],
            "image/png": "[encoded data removed]"
          },
          "metadata": {}
        }
      ]
    },
    {
      "cell_type": "markdown",
      "source": [
        "2. Scatter Plot with Regression Line: Showing relationship with trend"
      ],
      "metadata": {
        "id": "ervb5bopc6nl"
      }
    },
    {
      "cell_type": "code",
      "source": [
        "x = np.random.rand(100)\n",
        "y = 2*x + np.random.normal(0, 0.2, 100) # Creating some correlated data\n",
        "sns.regplot(x=x, y=y)\n",
        "plt.title(\"Scatter Plot with Regression Line\")\n",
        "plt.show()"
      ],
      "metadata": {
        "colab": {
          "base_uri": "https://localhost:8080/",
          "height": 452
        },
        "id": "c479pDR2c-Ny",
        "outputId": "2dd99383-4713-48d6-8559-bda911bbbe73"
      },
      "execution_count": 29,
      "outputs": [
        {
          "output_type": "display_data",
          "data": {
            "text/plain": [
              "<Figure size 640x480 with 1 Axes>"
            ],
            "image/png": "[encoded data removed]"
          },
          "metadata": {}
        }
      ]
    },
    {
      "cell_type": "markdown",
      "source": [
        "3. Box Plot: Comparing distributions across categories"
      ],
      "metadata": {
        "id": "jNNBtKnVdB1Y"
      }
    },
    {
      "cell_type": "code",
      "source": [
        "data = pd.DataFrame({'Group': ['A', 'A', 'B', 'B', 'C', 'C'],\n",
        "                   'Value': np.random.normal(0, 1, 6)})\n",
        "sns.boxplot(x='Group', y='Value', data=data)\n",
        "plt.title(\"Box Plot\")\n",
        "plt.show()\n"
      ],
      "metadata": {
        "colab": {
          "base_uri": "https://localhost:8080/",
          "height": 472
        },
        "id": "8hQJSuRrdKRk",
        "outputId": "7b85b437-4a02-4741-a056-543aa0eddd4f"
      },
      "execution_count": 30,
      "outputs": [
        {
          "output_type": "display_data",
          "data": {
            "text/plain": [
              "<Figure size 640x480 with 1 Axes>"
            ],
            "image/png": "[encoded data removed]"
          },
          "metadata": {}
        }
      ]
    },
    {
      "cell_type": "markdown",
      "source": [
        "4. Violin Plot: Combining box plot and KDE for richer distribution view"
      ],
      "metadata": {
        "id": "ARuw5-SydNwE"
      }
    },
    {
      "cell_type": "code",
      "source": [
        "sns.violinplot(x='Group', y='Value', data=data)\n",
        "plt.title(\"Violin Plot\")\n",
        "plt.show()\n"
      ],
      "metadata": {
        "colab": {
          "base_uri": "https://localhost:8080/",
          "height": 472
        },
        "id": "hPYFRTdAdRzj",
        "outputId": "c5dcfa7b-516d-4bd9-acb1-d2ec552d610e"
      },
      "execution_count": 31,
      "outputs": [
        {
          "output_type": "display_data",
          "data": {
            "text/plain": [
              "<Figure size 640x480 with 1 Axes>"
            ],
            "image/png": "[encoded data removed]"
          },
          "metadata": {}
        }
      ]
    },
    {
      "cell_type": "markdown",
      "source": [
        " 5. Count Plot: Showing the frequency of categories"
      ],
      "metadata": {
        "id": "6WG4ExBrdXKf"
      }
    },
    {
      "cell_type": "code",
      "source": [
        "data = pd.DataFrame({'Category': ['A', 'B', 'A', 'C', 'B', 'A', 'A']})\n",
        "sns.countplot(x='Category', data=data)\n",
        "plt.title(\"Count Plot\")\n",
        "plt.show()"
      ],
      "metadata": {
        "colab": {
          "base_uri": "https://localhost:8080/",
          "height": 472
        },
        "id": "YjxSkmsEdaku",
        "outputId": "37410abc-b591-466f-c307-1d971188ff44"
      },
      "execution_count": 32,
      "outputs": [
        {
          "output_type": "display_data",
          "data": {
            "text/plain": [
              "<Figure size 640x480 with 1 Axes>"
            ],
            "image/png": "[encoded data removed]"
          },
          "metadata": {}
        }
      ]
    },
    {
      "cell_type": "markdown",
      "source": [
        "6. Heatmap: Visualizing matrix data with color encoding\n"
      ],
      "metadata": {
        "id": "BSzg9-ibdg4G"
      }
    },
    {
      "cell_type": "code",
      "source": [
        "matrix = np.random.rand(10, 10)\n",
        "sns.heatmap(matrix, cmap=\"viridis\")\n",
        "plt.title(\"Heatmap\")\n",
        "plt.show()"
      ],
      "metadata": {
        "colab": {
          "base_uri": "https://localhost:8080/",
          "height": 452
        },
        "id": "nkIt73ekdqKV",
        "outputId": "b1fc58d1-5b8d-4d43-d116-131884f08131"
      },
      "execution_count": 33,
      "outputs": [
        {
          "output_type": "display_data",
          "data": {
            "text/plain": [
              "<Figure size 640x480 with 2 Axes>"
            ],
            "image/png": "[encoded data removed]"
          },
          "metadata": {}
        }
      ]
    },
    {
      "cell_type": "markdown",
      "source": [
        "7. Pair Plot: Showing pairwise relationships between multiple variables"
      ],
      "metadata": {
        "id": "XZYTV94edt1E"
      }
    },
    {
      "cell_type": "code",
      "source": [
        "data = pd.DataFrame({'A': np.random.rand(50),\n",
        "                   'B': np.random.rand(50),\n",
        "                   'C': np.random.rand(50)})\n",
        "sns.pairplot(data)\n",
        "plt.title(\"Pair Plot\")\n",
        "plt.show()\n"
      ],
      "metadata": {
        "colab": {
          "base_uri": "https://localhost:8080/",
          "height": 758
        },
        "id": "Gdn9IqiTdw9g",
        "outputId": "8cb37eec-1800-4a12-be05-24b3144c2822"
      },
      "execution_count": 34,
      "outputs": [
        {
          "output_type": "display_data",
          "data": {
            "text/plain": [
              "<Figure size 750x750 with 12 Axes>"
            ],
            "image/png": "[encoded data removed]"
          },
          "metadata": {}
        }
      ]
    },
    {
      "cell_type": "markdown",
      "source": [
        " 8. Facet Grid: Creating multiple plots based on categories"
      ],
      "metadata": {
        "id": "3MjcKgXWd1Y1"
      }
    },
    {
      "cell_type": "code",
      "source": [
        "data = pd.DataFrame({'Category': ['A', 'A', 'B', 'B', 'C', 'C'],\n",
        "                   'Value': np.random.normal(0, 1, 6),\n",
        "                   'Subcategory': ['X', 'Y', 'X', 'Y', 'X', 'Y']})\n",
        "g = sns.FacetGrid(data, col='Category', row='Subcategory')\n",
        "g.map(sns.histplot, 'Value')\n",
        "plt.title(\"Facet Grid\")\n",
        "plt.show()"
      ],
      "metadata": {
        "colab": {
          "base_uri": "https://localhost:8080/",
          "height": 607
        },
        "id": "aJvLmufhd6in",
        "outputId": "70d6678b-694a-4881-a603-d5be533f185d"
      },
      "execution_count": 35,
      "outputs": [
        {
          "output_type": "display_data",
          "data": {
            "text/plain": [
              "<Figure size 900x600 with 6 Axes>"
            ],
            "image/png": "[encoded data removed]"
          },
          "metadata": {}
        }
      ]
    },
    {
      "cell_type": "markdown",
      "source": [
        " 9. Joint Plot: Combining scatter plot and distribution plots"
      ],
      "metadata": {
        "id": "UiXVymiAd9zh"
      }
    },
    {
      "cell_type": "code",
      "source": [
        "x = np.random.rand(100)\n",
        "y = 2*x + np.random.normal(0, 0.2, 100)\n",
        "sns.jointplot(x=x, y=y, kind='scatter') # You can change kind (e.g., 'kde', 'hex')\n",
        "plt.title(\"Joint Plot\")\n",
        "plt.show()"
      ],
      "metadata": {
        "colab": {
          "base_uri": "https://localhost:8080/",
          "height": 626
        },
        "id": "3Y-fZwEZeCJ9",
        "outputId": "27f47a96-2dbc-4c7b-e3b8-4ee9af10af37"
      },
      "execution_count": 36,
      "outputs": [
        {
          "output_type": "display_data",
          "data": {
            "text/plain": [
              "<Figure size 600x600 with 3 Axes>"
            ],
            "image/png": "[encoded data removed]"
          },
          "metadata": {}
        }
      ]
    },
    {
      "cell_type": "markdown",
      "source": [
        "10. Time Series Plot: Visualizing data over time"
      ],
      "metadata": {
        "id": "nUA7BqNHeFdH"
      }
    },
    {
      "cell_type": "code",
      "source": [
        "dates = pd.date_range('2024-01-01', periods=100)\n",
        "values = np.cumsum(np.random.randn(100))\n",
        "time_series = pd.DataFrame({'Date': dates, 'Value': values})\n",
        "sns.lineplot(x='Date', y='Value', data=time_series)\n",
        "plt.title(\"Time Series Plot\")\n",
        "plt.show()"
      ],
      "metadata": {
        "colab": {
          "base_uri": "https://localhost:8080/",
          "height": 472
        },
        "id": "wjkBvnDEeJ4n",
        "outputId": "6dda50e0-2675-40a8-ddf1-a262034ae94a"
      },
      "execution_count": 37,
      "outputs": [
        {
          "output_type": "display_data",
          "data": {
            "text/plain": [
              "<Figure size 640x480 with 1 Axes>"
            ],
            "image/png": "[encoded data removed]"
          },
          "metadata": {}
        }
      ]
    }
  ]
}